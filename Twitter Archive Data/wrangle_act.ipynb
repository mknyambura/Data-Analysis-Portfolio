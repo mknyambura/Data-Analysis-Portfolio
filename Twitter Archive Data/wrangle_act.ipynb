{
 "cells": [
  {
   "cell_type": "markdown",
   "id": "c888a1dc",
   "metadata": {},
   "source": [
    "# Introduction\n",
    "> - **This dataset is the tweet archive of Twitter user @dog_rates, also known as WeRateDogs.**\n",
    "\n",
    "> - **WeRateDogs is a Twitter account that rates people's dogs with a humorous comment about the dog. These ratings almost always have a denominator of 10. The numerators are almost always greater than 10. 11/10, 12/10, 13/10, etc. Why? Because \"they're good dogs Brent.\" WeRateDogs has over 4 million followers and has received international media coverage.**"
   ]
  },
  {
   "cell_type": "code",
   "execution_count": 1,
   "id": "cbd8b19d",
   "metadata": {},
   "outputs": [],
   "source": [
    "#Import the libraries\n",
    "import pandas as pd \n",
    "import numpy as np \n",
    "import matplotlib.pyplot as plt\n",
    "import seaborn as sns\n",
    "import json\n",
    "import os\n",
    "import requests\n",
    "import warnings\n",
    "\n",
    "\n",
    "%matplotlib inline\n",
    "warnings.filterwarnings(\"ignore\")"
   ]
  },
  {
   "cell_type": "markdown",
   "id": "1dc3616f",
   "metadata": {},
   "source": [
    "# Data Wrangling\n",
    "\n",
    "> - **The objective of this project is to gather data from different sources, to be assessed and then to perform cleansing techniques to raise the quality and tidiness of the data. Hence, it can be used in any later analysis.**"
   ]
  },
  {
   "cell_type": "markdown",
   "id": "20ac1826",
   "metadata": {},
   "source": [
    "> ## Gather the data"
   ]
  },
  {
   "cell_type": "code",
   "execution_count": 2,
   "id": "0bbba5bd",
   "metadata": {},
   "outputs": [
    {
     "data": {
      "text/plain": [
       "(2356, 17)"
      ]
     },
     "execution_count": 2,
     "metadata": {},
     "output_type": "execute_result"
    }
   ],
   "source": [
    "twitter_archive = pd.read_csv(\"C:/Users/kariu/OneDrive/Desktop/Data Science/Twitter_Data/twitter-archive-enhanced-2.csv\")\n",
    "twitter_archive.shape"
   ]
  },
  {
   "cell_type": "code",
   "execution_count": 3,
   "id": "d4bd595e",
   "metadata": {},
   "outputs": [
    {
     "data": {
      "text/html": [
       "<div>\n",
       "<style scoped>\n",
       "    .dataframe tbody tr th:only-of-type {\n",
       "        vertical-align: middle;\n",
       "    }\n",
       "\n",
       "    .dataframe tbody tr th {\n",
       "        vertical-align: top;\n",
       "    }\n",
       "\n",
       "    .dataframe thead th {\n",
       "        text-align: right;\n",
       "    }\n",
       "</style>\n",
       "<table border=\"1\" class=\"dataframe\">\n",
       "  <thead>\n",
       "    <tr style=\"text-align: right;\">\n",
       "      <th></th>\n",
       "      <th>tweet_id</th>\n",
       "      <th>in_reply_to_status_id</th>\n",
       "      <th>in_reply_to_user_id</th>\n",
       "      <th>timestamp</th>\n",
       "      <th>source</th>\n",
       "      <th>text</th>\n",
       "      <th>retweeted_status_id</th>\n",
       "      <th>retweeted_status_user_id</th>\n",
       "      <th>retweeted_status_timestamp</th>\n",
       "      <th>expanded_urls</th>\n",
       "      <th>rating_numerator</th>\n",
       "      <th>rating_denominator</th>\n",
       "      <th>name</th>\n",
       "      <th>doggo</th>\n",
       "      <th>floofer</th>\n",
       "      <th>pupper</th>\n",
       "      <th>puppo</th>\n",
       "    </tr>\n",
       "  </thead>\n",
       "  <tbody>\n",
       "    <tr>\n",
       "      <th>0</th>\n",
       "      <td>892420643555336193</td>\n",
       "      <td>NaN</td>\n",
       "      <td>NaN</td>\n",
       "      <td>2017-08-01 16:23:56 +0000</td>\n",
       "      <td>&lt;a href=\"http://twitter.com/download/iphone\" r...</td>\n",
       "      <td>This is Phineas. He's a mystical boy. Only eve...</td>\n",
       "      <td>NaN</td>\n",
       "      <td>NaN</td>\n",
       "      <td>NaN</td>\n",
       "      <td>https://twitter.com/dog_rates/status/892420643...</td>\n",
       "      <td>13</td>\n",
       "      <td>10</td>\n",
       "      <td>Phineas</td>\n",
       "      <td>None</td>\n",
       "      <td>None</td>\n",
       "      <td>None</td>\n",
       "      <td>None</td>\n",
       "    </tr>\n",
       "    <tr>\n",
       "      <th>1</th>\n",
       "      <td>892177421306343426</td>\n",
       "      <td>NaN</td>\n",
       "      <td>NaN</td>\n",
       "      <td>2017-08-01 00:17:27 +0000</td>\n",
       "      <td>&lt;a href=\"http://twitter.com/download/iphone\" r...</td>\n",
       "      <td>This is Tilly. She's just checking pup on you....</td>\n",
       "      <td>NaN</td>\n",
       "      <td>NaN</td>\n",
       "      <td>NaN</td>\n",
       "      <td>https://twitter.com/dog_rates/status/892177421...</td>\n",
       "      <td>13</td>\n",
       "      <td>10</td>\n",
       "      <td>Tilly</td>\n",
       "      <td>None</td>\n",
       "      <td>None</td>\n",
       "      <td>None</td>\n",
       "      <td>None</td>\n",
       "    </tr>\n",
       "    <tr>\n",
       "      <th>2</th>\n",
       "      <td>891815181378084864</td>\n",
       "      <td>NaN</td>\n",
       "      <td>NaN</td>\n",
       "      <td>2017-07-31 00:18:03 +0000</td>\n",
       "      <td>&lt;a href=\"http://twitter.com/download/iphone\" r...</td>\n",
       "      <td>This is Archie. He is a rare Norwegian Pouncin...</td>\n",
       "      <td>NaN</td>\n",
       "      <td>NaN</td>\n",
       "      <td>NaN</td>\n",
       "      <td>https://twitter.com/dog_rates/status/891815181...</td>\n",
       "      <td>12</td>\n",
       "      <td>10</td>\n",
       "      <td>Archie</td>\n",
       "      <td>None</td>\n",
       "      <td>None</td>\n",
       "      <td>None</td>\n",
       "      <td>None</td>\n",
       "    </tr>\n",
       "    <tr>\n",
       "      <th>3</th>\n",
       "      <td>891689557279858688</td>\n",
       "      <td>NaN</td>\n",
       "      <td>NaN</td>\n",
       "      <td>2017-07-30 15:58:51 +0000</td>\n",
       "      <td>&lt;a href=\"http://twitter.com/download/iphone\" r...</td>\n",
       "      <td>This is Darla. She commenced a snooze mid meal...</td>\n",
       "      <td>NaN</td>\n",
       "      <td>NaN</td>\n",
       "      <td>NaN</td>\n",
       "      <td>https://twitter.com/dog_rates/status/891689557...</td>\n",
       "      <td>13</td>\n",
       "      <td>10</td>\n",
       "      <td>Darla</td>\n",
       "      <td>None</td>\n",
       "      <td>None</td>\n",
       "      <td>None</td>\n",
       "      <td>None</td>\n",
       "    </tr>\n",
       "    <tr>\n",
       "      <th>4</th>\n",
       "      <td>891327558926688256</td>\n",
       "      <td>NaN</td>\n",
       "      <td>NaN</td>\n",
       "      <td>2017-07-29 16:00:24 +0000</td>\n",
       "      <td>&lt;a href=\"http://twitter.com/download/iphone\" r...</td>\n",
       "      <td>This is Franklin. He would like you to stop ca...</td>\n",
       "      <td>NaN</td>\n",
       "      <td>NaN</td>\n",
       "      <td>NaN</td>\n",
       "      <td>https://twitter.com/dog_rates/status/891327558...</td>\n",
       "      <td>12</td>\n",
       "      <td>10</td>\n",
       "      <td>Franklin</td>\n",
       "      <td>None</td>\n",
       "      <td>None</td>\n",
       "      <td>None</td>\n",
       "      <td>None</td>\n",
       "    </tr>\n",
       "  </tbody>\n",
       "</table>\n",
       "</div>"
      ],
      "text/plain": [
       "             tweet_id  in_reply_to_status_id  in_reply_to_user_id  \\\n",
       "0  892420643555336193                    NaN                  NaN   \n",
       "1  892177421306343426                    NaN                  NaN   \n",
       "2  891815181378084864                    NaN                  NaN   \n",
       "3  891689557279858688                    NaN                  NaN   \n",
       "4  891327558926688256                    NaN                  NaN   \n",
       "\n",
       "                   timestamp  \\\n",
       "0  2017-08-01 16:23:56 +0000   \n",
       "1  2017-08-01 00:17:27 +0000   \n",
       "2  2017-07-31 00:18:03 +0000   \n",
       "3  2017-07-30 15:58:51 +0000   \n",
       "4  2017-07-29 16:00:24 +0000   \n",
       "\n",
       "                                              source  \\\n",
       "0  <a href=\"http://twitter.com/download/iphone\" r...   \n",
       "1  <a href=\"http://twitter.com/download/iphone\" r...   \n",
       "2  <a href=\"http://twitter.com/download/iphone\" r...   \n",
       "3  <a href=\"http://twitter.com/download/iphone\" r...   \n",
       "4  <a href=\"http://twitter.com/download/iphone\" r...   \n",
       "\n",
       "                                                text  retweeted_status_id  \\\n",
       "0  This is Phineas. He's a mystical boy. Only eve...                  NaN   \n",
       "1  This is Tilly. She's just checking pup on you....                  NaN   \n",
       "2  This is Archie. He is a rare Norwegian Pouncin...                  NaN   \n",
       "3  This is Darla. She commenced a snooze mid meal...                  NaN   \n",
       "4  This is Franklin. He would like you to stop ca...                  NaN   \n",
       "\n",
       "   retweeted_status_user_id retweeted_status_timestamp  \\\n",
       "0                       NaN                        NaN   \n",
       "1                       NaN                        NaN   \n",
       "2                       NaN                        NaN   \n",
       "3                       NaN                        NaN   \n",
       "4                       NaN                        NaN   \n",
       "\n",
       "                                       expanded_urls  rating_numerator  \\\n",
       "0  https://twitter.com/dog_rates/status/892420643...                13   \n",
       "1  https://twitter.com/dog_rates/status/892177421...                13   \n",
       "2  https://twitter.com/dog_rates/status/891815181...                12   \n",
       "3  https://twitter.com/dog_rates/status/891689557...                13   \n",
       "4  https://twitter.com/dog_rates/status/891327558...                12   \n",
       "\n",
       "   rating_denominator      name doggo floofer pupper puppo  \n",
       "0                  10   Phineas  None    None   None  None  \n",
       "1                  10     Tilly  None    None   None  None  \n",
       "2                  10    Archie  None    None   None  None  \n",
       "3                  10     Darla  None    None   None  None  \n",
       "4                  10  Franklin  None    None   None  None  "
      ]
     },
     "execution_count": 3,
     "metadata": {},
     "output_type": "execute_result"
    }
   ],
   "source": [
    "twitter_archive.head()"
   ]
  },
  {
   "cell_type": "markdown",
   "id": "063cfd74",
   "metadata": {},
   "source": [
    "> - Download image files"
   ]
  },
  {
   "cell_type": "code",
   "execution_count": 4,
   "id": "897a0bd3",
   "metadata": {},
   "outputs": [
    {
     "data": {
      "text/plain": [
       "(2075, 12)"
      ]
     },
     "execution_count": 4,
     "metadata": {},
     "output_type": "execute_result"
    }
   ],
   "source": [
    "folder_name = 'image_predictions_file'\n",
    "if not os.path.exists(folder_name):\n",
    "    os.makedirs(folder_name)\n",
    "    \n",
    "url = \"https://d17h27t6h515a5.cloudfront.net/topher/2017/August/599fd2ad_image-predictions/image-predictions.tsv\"\n",
    "response = requests.get(url)\n",
    "\n",
    "\n",
    "with open('image_predictions.tsv' , 'wb') as file:\n",
    "    file.write(response.content)\n",
    "\n",
    "    \n",
    "image_predictions = pd.read_csv('image_predictions.tsv' , '\\t')\n",
    "\n",
    "image_predictions.shape"
   ]
  },
  {
   "cell_type": "code",
   "execution_count": 5,
   "id": "18f75720",
   "metadata": {},
   "outputs": [
    {
     "data": {
      "text/html": [
       "<div>\n",
       "<style scoped>\n",
       "    .dataframe tbody tr th:only-of-type {\n",
       "        vertical-align: middle;\n",
       "    }\n",
       "\n",
       "    .dataframe tbody tr th {\n",
       "        vertical-align: top;\n",
       "    }\n",
       "\n",
       "    .dataframe thead th {\n",
       "        text-align: right;\n",
       "    }\n",
       "</style>\n",
       "<table border=\"1\" class=\"dataframe\">\n",
       "  <thead>\n",
       "    <tr style=\"text-align: right;\">\n",
       "      <th></th>\n",
       "      <th>tweet_id</th>\n",
       "      <th>jpg_url</th>\n",
       "      <th>img_num</th>\n",
       "      <th>p1</th>\n",
       "      <th>p1_conf</th>\n",
       "      <th>p1_dog</th>\n",
       "      <th>p2</th>\n",
       "      <th>p2_conf</th>\n",
       "      <th>p2_dog</th>\n",
       "      <th>p3</th>\n",
       "      <th>p3_conf</th>\n",
       "      <th>p3_dog</th>\n",
       "    </tr>\n",
       "  </thead>\n",
       "  <tbody>\n",
       "    <tr>\n",
       "      <th>0</th>\n",
       "      <td>666020888022790149</td>\n",
       "      <td>https://pbs.twimg.com/media/CT4udn0WwAA0aMy.jpg</td>\n",
       "      <td>1</td>\n",
       "      <td>Welsh_springer_spaniel</td>\n",
       "      <td>0.465074</td>\n",
       "      <td>True</td>\n",
       "      <td>collie</td>\n",
       "      <td>0.156665</td>\n",
       "      <td>True</td>\n",
       "      <td>Shetland_sheepdog</td>\n",
       "      <td>0.061428</td>\n",
       "      <td>True</td>\n",
       "    </tr>\n",
       "    <tr>\n",
       "      <th>1</th>\n",
       "      <td>666029285002620928</td>\n",
       "      <td>https://pbs.twimg.com/media/CT42GRgUYAA5iDo.jpg</td>\n",
       "      <td>1</td>\n",
       "      <td>redbone</td>\n",
       "      <td>0.506826</td>\n",
       "      <td>True</td>\n",
       "      <td>miniature_pinscher</td>\n",
       "      <td>0.074192</td>\n",
       "      <td>True</td>\n",
       "      <td>Rhodesian_ridgeback</td>\n",
       "      <td>0.072010</td>\n",
       "      <td>True</td>\n",
       "    </tr>\n",
       "    <tr>\n",
       "      <th>2</th>\n",
       "      <td>666033412701032449</td>\n",
       "      <td>https://pbs.twimg.com/media/CT4521TWwAEvMyu.jpg</td>\n",
       "      <td>1</td>\n",
       "      <td>German_shepherd</td>\n",
       "      <td>0.596461</td>\n",
       "      <td>True</td>\n",
       "      <td>malinois</td>\n",
       "      <td>0.138584</td>\n",
       "      <td>True</td>\n",
       "      <td>bloodhound</td>\n",
       "      <td>0.116197</td>\n",
       "      <td>True</td>\n",
       "    </tr>\n",
       "    <tr>\n",
       "      <th>3</th>\n",
       "      <td>666044226329800704</td>\n",
       "      <td>https://pbs.twimg.com/media/CT5Dr8HUEAA-lEu.jpg</td>\n",
       "      <td>1</td>\n",
       "      <td>Rhodesian_ridgeback</td>\n",
       "      <td>0.408143</td>\n",
       "      <td>True</td>\n",
       "      <td>redbone</td>\n",
       "      <td>0.360687</td>\n",
       "      <td>True</td>\n",
       "      <td>miniature_pinscher</td>\n",
       "      <td>0.222752</td>\n",
       "      <td>True</td>\n",
       "    </tr>\n",
       "    <tr>\n",
       "      <th>4</th>\n",
       "      <td>666049248165822465</td>\n",
       "      <td>https://pbs.twimg.com/media/CT5IQmsXIAAKY4A.jpg</td>\n",
       "      <td>1</td>\n",
       "      <td>miniature_pinscher</td>\n",
       "      <td>0.560311</td>\n",
       "      <td>True</td>\n",
       "      <td>Rottweiler</td>\n",
       "      <td>0.243682</td>\n",
       "      <td>True</td>\n",
       "      <td>Doberman</td>\n",
       "      <td>0.154629</td>\n",
       "      <td>True</td>\n",
       "    </tr>\n",
       "  </tbody>\n",
       "</table>\n",
       "</div>"
      ],
      "text/plain": [
       "             tweet_id                                          jpg_url  \\\n",
       "0  666020888022790149  https://pbs.twimg.com/media/CT4udn0WwAA0aMy.jpg   \n",
       "1  666029285002620928  https://pbs.twimg.com/media/CT42GRgUYAA5iDo.jpg   \n",
       "2  666033412701032449  https://pbs.twimg.com/media/CT4521TWwAEvMyu.jpg   \n",
       "3  666044226329800704  https://pbs.twimg.com/media/CT5Dr8HUEAA-lEu.jpg   \n",
       "4  666049248165822465  https://pbs.twimg.com/media/CT5IQmsXIAAKY4A.jpg   \n",
       "\n",
       "   img_num                      p1   p1_conf  p1_dog                  p2  \\\n",
       "0        1  Welsh_springer_spaniel  0.465074    True              collie   \n",
       "1        1                 redbone  0.506826    True  miniature_pinscher   \n",
       "2        1         German_shepherd  0.596461    True            malinois   \n",
       "3        1     Rhodesian_ridgeback  0.408143    True             redbone   \n",
       "4        1      miniature_pinscher  0.560311    True          Rottweiler   \n",
       "\n",
       "    p2_conf  p2_dog                   p3   p3_conf  p3_dog  \n",
       "0  0.156665    True    Shetland_sheepdog  0.061428    True  \n",
       "1  0.074192    True  Rhodesian_ridgeback  0.072010    True  \n",
       "2  0.138584    True           bloodhound  0.116197    True  \n",
       "3  0.360687    True   miniature_pinscher  0.222752    True  \n",
       "4  0.243682    True             Doberman  0.154629    True  "
      ]
     },
     "execution_count": 5,
     "metadata": {},
     "output_type": "execute_result"
    }
   ],
   "source": [
    "image_predictions.head()"
   ]
  },
  {
   "cell_type": "markdown",
   "id": "240114ba",
   "metadata": {},
   "source": [
    "> - Import twitter_json.txt and read it line by line to extract tweet ID, retweet count, and favorite count"
   ]
  },
  {
   "cell_type": "code",
   "execution_count": 6,
   "id": "0e408f95",
   "metadata": {},
   "outputs": [],
   "source": [
    "#opening json file \n",
    "df_list = []\n",
    "\n",
    "with open('C:/Users/kariu/OneDrive/Desktop/Data Science/Twitter_Data/tweet-json/tweet_json.txt') as file:\n",
    "    for line in file:\n",
    "        df_list.append(json.loads(line))"
   ]
  },
  {
   "cell_type": "code",
   "execution_count": 7,
   "id": "a817e751",
   "metadata": {},
   "outputs": [
    {
     "data": {
      "text/html": [
       "<div>\n",
       "<style scoped>\n",
       "    .dataframe tbody tr th:only-of-type {\n",
       "        vertical-align: middle;\n",
       "    }\n",
       "\n",
       "    .dataframe tbody tr th {\n",
       "        vertical-align: top;\n",
       "    }\n",
       "\n",
       "    .dataframe thead th {\n",
       "        text-align: right;\n",
       "    }\n",
       "</style>\n",
       "<table border=\"1\" class=\"dataframe\">\n",
       "  <thead>\n",
       "    <tr style=\"text-align: right;\">\n",
       "      <th></th>\n",
       "      <th>created_at</th>\n",
       "      <th>id</th>\n",
       "      <th>id_str</th>\n",
       "      <th>full_text</th>\n",
       "      <th>truncated</th>\n",
       "      <th>display_text_range</th>\n",
       "      <th>entities</th>\n",
       "      <th>extended_entities</th>\n",
       "      <th>source</th>\n",
       "      <th>in_reply_to_status_id</th>\n",
       "      <th>...</th>\n",
       "      <th>favorite_count</th>\n",
       "      <th>favorited</th>\n",
       "      <th>retweeted</th>\n",
       "      <th>possibly_sensitive</th>\n",
       "      <th>possibly_sensitive_appealable</th>\n",
       "      <th>lang</th>\n",
       "      <th>retweeted_status</th>\n",
       "      <th>quoted_status_id</th>\n",
       "      <th>quoted_status_id_str</th>\n",
       "      <th>quoted_status</th>\n",
       "    </tr>\n",
       "  </thead>\n",
       "  <tbody>\n",
       "    <tr>\n",
       "      <th>0</th>\n",
       "      <td>Tue Aug 01 16:23:56 +0000 2017</td>\n",
       "      <td>892420643555336193</td>\n",
       "      <td>892420643555336193</td>\n",
       "      <td>This is Phineas. He's a mystical boy. Only eve...</td>\n",
       "      <td>False</td>\n",
       "      <td>[0, 85]</td>\n",
       "      <td>{'hashtags': [], 'symbols': [], 'user_mentions...</td>\n",
       "      <td>{'media': [{'id': 892420639486877696, 'id_str'...</td>\n",
       "      <td>&lt;a href=\"http://twitter.com/download/iphone\" r...</td>\n",
       "      <td>NaN</td>\n",
       "      <td>...</td>\n",
       "      <td>39467</td>\n",
       "      <td>False</td>\n",
       "      <td>False</td>\n",
       "      <td>False</td>\n",
       "      <td>False</td>\n",
       "      <td>en</td>\n",
       "      <td>NaN</td>\n",
       "      <td>NaN</td>\n",
       "      <td>NaN</td>\n",
       "      <td>NaN</td>\n",
       "    </tr>\n",
       "    <tr>\n",
       "      <th>1</th>\n",
       "      <td>Tue Aug 01 00:17:27 +0000 2017</td>\n",
       "      <td>892177421306343426</td>\n",
       "      <td>892177421306343426</td>\n",
       "      <td>This is Tilly. She's just checking pup on you....</td>\n",
       "      <td>False</td>\n",
       "      <td>[0, 138]</td>\n",
       "      <td>{'hashtags': [], 'symbols': [], 'user_mentions...</td>\n",
       "      <td>{'media': [{'id': 892177413194625024, 'id_str'...</td>\n",
       "      <td>&lt;a href=\"http://twitter.com/download/iphone\" r...</td>\n",
       "      <td>NaN</td>\n",
       "      <td>...</td>\n",
       "      <td>33819</td>\n",
       "      <td>False</td>\n",
       "      <td>False</td>\n",
       "      <td>False</td>\n",
       "      <td>False</td>\n",
       "      <td>en</td>\n",
       "      <td>NaN</td>\n",
       "      <td>NaN</td>\n",
       "      <td>NaN</td>\n",
       "      <td>NaN</td>\n",
       "    </tr>\n",
       "    <tr>\n",
       "      <th>2</th>\n",
       "      <td>Mon Jul 31 00:18:03 +0000 2017</td>\n",
       "      <td>891815181378084864</td>\n",
       "      <td>891815181378084864</td>\n",
       "      <td>This is Archie. He is a rare Norwegian Pouncin...</td>\n",
       "      <td>False</td>\n",
       "      <td>[0, 121]</td>\n",
       "      <td>{'hashtags': [], 'symbols': [], 'user_mentions...</td>\n",
       "      <td>{'media': [{'id': 891815175371796480, 'id_str'...</td>\n",
       "      <td>&lt;a href=\"http://twitter.com/download/iphone\" r...</td>\n",
       "      <td>NaN</td>\n",
       "      <td>...</td>\n",
       "      <td>25461</td>\n",
       "      <td>False</td>\n",
       "      <td>False</td>\n",
       "      <td>False</td>\n",
       "      <td>False</td>\n",
       "      <td>en</td>\n",
       "      <td>NaN</td>\n",
       "      <td>NaN</td>\n",
       "      <td>NaN</td>\n",
       "      <td>NaN</td>\n",
       "    </tr>\n",
       "    <tr>\n",
       "      <th>3</th>\n",
       "      <td>Sun Jul 30 15:58:51 +0000 2017</td>\n",
       "      <td>891689557279858688</td>\n",
       "      <td>891689557279858688</td>\n",
       "      <td>This is Darla. She commenced a snooze mid meal...</td>\n",
       "      <td>False</td>\n",
       "      <td>[0, 79]</td>\n",
       "      <td>{'hashtags': [], 'symbols': [], 'user_mentions...</td>\n",
       "      <td>{'media': [{'id': 891689552724799489, 'id_str'...</td>\n",
       "      <td>&lt;a href=\"http://twitter.com/download/iphone\" r...</td>\n",
       "      <td>NaN</td>\n",
       "      <td>...</td>\n",
       "      <td>42908</td>\n",
       "      <td>False</td>\n",
       "      <td>False</td>\n",
       "      <td>False</td>\n",
       "      <td>False</td>\n",
       "      <td>en</td>\n",
       "      <td>NaN</td>\n",
       "      <td>NaN</td>\n",
       "      <td>NaN</td>\n",
       "      <td>NaN</td>\n",
       "    </tr>\n",
       "    <tr>\n",
       "      <th>4</th>\n",
       "      <td>Sat Jul 29 16:00:24 +0000 2017</td>\n",
       "      <td>891327558926688256</td>\n",
       "      <td>891327558926688256</td>\n",
       "      <td>This is Franklin. He would like you to stop ca...</td>\n",
       "      <td>False</td>\n",
       "      <td>[0, 138]</td>\n",
       "      <td>{'hashtags': [{'text': 'BarkWeek', 'indices': ...</td>\n",
       "      <td>{'media': [{'id': 891327551943041024, 'id_str'...</td>\n",
       "      <td>&lt;a href=\"http://twitter.com/download/iphone\" r...</td>\n",
       "      <td>NaN</td>\n",
       "      <td>...</td>\n",
       "      <td>41048</td>\n",
       "      <td>False</td>\n",
       "      <td>False</td>\n",
       "      <td>False</td>\n",
       "      <td>False</td>\n",
       "      <td>en</td>\n",
       "      <td>NaN</td>\n",
       "      <td>NaN</td>\n",
       "      <td>NaN</td>\n",
       "      <td>NaN</td>\n",
       "    </tr>\n",
       "  </tbody>\n",
       "</table>\n",
       "<p>5 rows × 31 columns</p>\n",
       "</div>"
      ],
      "text/plain": [
       "                       created_at                  id              id_str  \\\n",
       "0  Tue Aug 01 16:23:56 +0000 2017  892420643555336193  892420643555336193   \n",
       "1  Tue Aug 01 00:17:27 +0000 2017  892177421306343426  892177421306343426   \n",
       "2  Mon Jul 31 00:18:03 +0000 2017  891815181378084864  891815181378084864   \n",
       "3  Sun Jul 30 15:58:51 +0000 2017  891689557279858688  891689557279858688   \n",
       "4  Sat Jul 29 16:00:24 +0000 2017  891327558926688256  891327558926688256   \n",
       "\n",
       "                                           full_text  truncated  \\\n",
       "0  This is Phineas. He's a mystical boy. Only eve...      False   \n",
       "1  This is Tilly. She's just checking pup on you....      False   \n",
       "2  This is Archie. He is a rare Norwegian Pouncin...      False   \n",
       "3  This is Darla. She commenced a snooze mid meal...      False   \n",
       "4  This is Franklin. He would like you to stop ca...      False   \n",
       "\n",
       "  display_text_range                                           entities  \\\n",
       "0            [0, 85]  {'hashtags': [], 'symbols': [], 'user_mentions...   \n",
       "1           [0, 138]  {'hashtags': [], 'symbols': [], 'user_mentions...   \n",
       "2           [0, 121]  {'hashtags': [], 'symbols': [], 'user_mentions...   \n",
       "3            [0, 79]  {'hashtags': [], 'symbols': [], 'user_mentions...   \n",
       "4           [0, 138]  {'hashtags': [{'text': 'BarkWeek', 'indices': ...   \n",
       "\n",
       "                                   extended_entities  \\\n",
       "0  {'media': [{'id': 892420639486877696, 'id_str'...   \n",
       "1  {'media': [{'id': 892177413194625024, 'id_str'...   \n",
       "2  {'media': [{'id': 891815175371796480, 'id_str'...   \n",
       "3  {'media': [{'id': 891689552724799489, 'id_str'...   \n",
       "4  {'media': [{'id': 891327551943041024, 'id_str'...   \n",
       "\n",
       "                                              source  in_reply_to_status_id  \\\n",
       "0  <a href=\"http://twitter.com/download/iphone\" r...                    NaN   \n",
       "1  <a href=\"http://twitter.com/download/iphone\" r...                    NaN   \n",
       "2  <a href=\"http://twitter.com/download/iphone\" r...                    NaN   \n",
       "3  <a href=\"http://twitter.com/download/iphone\" r...                    NaN   \n",
       "4  <a href=\"http://twitter.com/download/iphone\" r...                    NaN   \n",
       "\n",
       "   ... favorite_count  favorited retweeted possibly_sensitive  \\\n",
       "0  ...          39467      False     False              False   \n",
       "1  ...          33819      False     False              False   \n",
       "2  ...          25461      False     False              False   \n",
       "3  ...          42908      False     False              False   \n",
       "4  ...          41048      False     False              False   \n",
       "\n",
       "  possibly_sensitive_appealable lang retweeted_status quoted_status_id  \\\n",
       "0                         False   en              NaN              NaN   \n",
       "1                         False   en              NaN              NaN   \n",
       "2                         False   en              NaN              NaN   \n",
       "3                         False   en              NaN              NaN   \n",
       "4                         False   en              NaN              NaN   \n",
       "\n",
       "  quoted_status_id_str  quoted_status  \n",
       "0                  NaN            NaN  \n",
       "1                  NaN            NaN  \n",
       "2                  NaN            NaN  \n",
       "3                  NaN            NaN  \n",
       "4                  NaN            NaN  \n",
       "\n",
       "[5 rows x 31 columns]"
      ]
     },
     "execution_count": 7,
     "metadata": {},
     "output_type": "execute_result"
    }
   ],
   "source": [
    "#reading json file data\n",
    "tweet_data=pd.DataFrame(df_list)\n",
    "tweet_data.head()"
   ]
  },
  {
   "cell_type": "markdown",
   "id": "58eda39b",
   "metadata": {},
   "source": [
    "## Data Assessment and Cleaning\n",
    "\n",
    "> - **We have gathered our data from 3 different sources, basic acrhived data from WeRateDogs, dogs breeds provided by some volunteer who applied neutral network classification process on images attached with the tweets, and downloaded live data for those tweets using twitter API. Now let us do data assessment to detect any quality or tidy issues in the data.**\n",
    "\n",
    "_It is enough to find 8 quality issues, and 2 tidy issue. And as the data might contain more than this, I am going to the follow the project requirements._\n",
    "\n",
    "> - **Data Assessment and Cleaning can be done in iteration. I am going to mark every iteration of assessment followed by cleaning as a `Round`. and I am going to list list of quality and tidiness issues for each round.**"
   ]
  },
  {
   "cell_type": "code",
   "execution_count": 8,
   "id": "0a40811f",
   "metadata": {},
   "outputs": [
    {
     "name": "stdout",
     "output_type": "stream",
     "text": [
      "<class 'pandas.core.frame.DataFrame'>\n",
      "Index: 2356 entries, 892420643555336193 to 666020888022790149\n",
      "Data columns (total 57 columns):\n",
      " #   Column                          Non-Null Count  Dtype  \n",
      "---  ------                          --------------  -----  \n",
      " 0   in_reply_to_status_id_basic     78 non-null     float64\n",
      " 1   in_reply_to_user_id_basic       78 non-null     float64\n",
      " 2   timestamp                       2356 non-null   object \n",
      " 3   source_basic                    2356 non-null   object \n",
      " 4   text                            2356 non-null   object \n",
      " 5   retweeted_status_id             181 non-null    float64\n",
      " 6   retweeted_status_user_id        181 non-null    float64\n",
      " 7   retweeted_status_timestamp      181 non-null    object \n",
      " 8   expanded_urls                   2297 non-null   object \n",
      " 9   rating_numerator                2356 non-null   int64  \n",
      " 10  rating_denominator              2356 non-null   int64  \n",
      " 11  name                            2356 non-null   object \n",
      " 12  doggo                           2356 non-null   object \n",
      " 13  floofer                         2356 non-null   object \n",
      " 14  pupper                          2356 non-null   object \n",
      " 15  puppo                           2356 non-null   object \n",
      " 16  created_at                      0 non-null      object \n",
      " 17  id                              0 non-null      float64\n",
      " 18  full_text                       0 non-null      object \n",
      " 19  truncated                       0 non-null      object \n",
      " 20  display_text_range              0 non-null      object \n",
      " 21  entities                        0 non-null      object \n",
      " 22  extended_entities               0 non-null      object \n",
      " 23  source_extended                 0 non-null      object \n",
      " 24  in_reply_to_status_id_extended  0 non-null      float64\n",
      " 25  in_reply_to_status_id_str       0 non-null      object \n",
      " 26  in_reply_to_user_id_extended    0 non-null      float64\n",
      " 27  in_reply_to_user_id_str         0 non-null      object \n",
      " 28  in_reply_to_screen_name         0 non-null      object \n",
      " 29  user                            0 non-null      object \n",
      " 30  geo                             0 non-null      object \n",
      " 31  coordinates                     0 non-null      object \n",
      " 32  place                           0 non-null      object \n",
      " 33  contributors                    0 non-null      object \n",
      " 34  is_quote_status                 0 non-null      object \n",
      " 35  retweet_count                   0 non-null      float64\n",
      " 36  favorite_count                  0 non-null      float64\n",
      " 37  favorited                       0 non-null      object \n",
      " 38  retweeted                       0 non-null      object \n",
      " 39  possibly_sensitive              0 non-null      object \n",
      " 40  possibly_sensitive_appealable   0 non-null      object \n",
      " 41  lang                            0 non-null      object \n",
      " 42  retweeted_status                0 non-null      object \n",
      " 43  quoted_status_id                0 non-null      float64\n",
      " 44  quoted_status_id_str            0 non-null      object \n",
      " 45  quoted_status                   0 non-null      object \n",
      " 46  jpg_url                         2075 non-null   object \n",
      " 47  img_num                         2075 non-null   float64\n",
      " 48  p1                              2075 non-null   object \n",
      " 49  p1_conf                         2075 non-null   float64\n",
      " 50  p1_dog                          2075 non-null   object \n",
      " 51  p2                              2075 non-null   object \n",
      " 52  p2_conf                         2075 non-null   float64\n",
      " 53  p2_dog                          2075 non-null   object \n",
      " 54  p3                              2075 non-null   object \n",
      " 55  p3_conf                         2075 non-null   float64\n",
      " 56  p3_dog                          2075 non-null   object \n",
      "dtypes: float64(14), int64(2), object(41)\n",
      "memory usage: 1.1+ MB\n"
     ]
    }
   ],
   "source": [
    "all_df = twitter_archive.set_index('tweet_id').join(tweet_data.set_index('id_str'),lsuffix='_basic', rsuffix='_extended')\n",
    "all_df = all_df.join(image_predictions.set_index('tweet_id'),lsuffix='', rsuffix='_breed')\n",
    "all_df.info()"
   ]
  },
  {
   "cell_type": "code",
   "execution_count": 9,
   "id": "9d0aaf22",
   "metadata": {},
   "outputs": [
    {
     "data": {
      "text/plain": [
       "False"
      ]
     },
     "execution_count": 9,
     "metadata": {},
     "output_type": "execute_result"
    }
   ],
   "source": [
    "all_df.duplicated().any()"
   ]
  },
  {
   "cell_type": "code",
   "execution_count": 10,
   "id": "5646d0fe",
   "metadata": {},
   "outputs": [
    {
     "name": "stdout",
     "output_type": "stream",
     "text": [
      "<class 'pandas.core.frame.DataFrame'>\n",
      "Index: 2356 entries, 892420643555336193 to 666020888022790149\n",
      "Data columns (total 57 columns):\n",
      " #   Column                          Non-Null Count  Dtype  \n",
      "---  ------                          --------------  -----  \n",
      " 0   in_reply_to_status_id_basic     78 non-null     float64\n",
      " 1   in_reply_to_user_id_basic       78 non-null     float64\n",
      " 2   timestamp                       2356 non-null   object \n",
      " 3   source_basic                    2356 non-null   object \n",
      " 4   text                            2356 non-null   object \n",
      " 5   retweeted_status_id             181 non-null    float64\n",
      " 6   retweeted_status_user_id        181 non-null    float64\n",
      " 7   retweeted_status_timestamp      181 non-null    object \n",
      " 8   expanded_urls                   2297 non-null   object \n",
      " 9   rating_numerator                2356 non-null   int64  \n",
      " 10  rating_denominator              2356 non-null   int64  \n",
      " 11  name                            1611 non-null   object \n",
      " 12  doggo                           97 non-null     object \n",
      " 13  floofer                         10 non-null     object \n",
      " 14  pupper                          257 non-null    object \n",
      " 15  puppo                           30 non-null     object \n",
      " 16  created_at                      0 non-null      float64\n",
      " 17  id                              0 non-null      float64\n",
      " 18  full_text                       0 non-null      float64\n",
      " 19  truncated                       0 non-null      float64\n",
      " 20  display_text_range              0 non-null      float64\n",
      " 21  entities                        0 non-null      float64\n",
      " 22  extended_entities               0 non-null      float64\n",
      " 23  source_extended                 0 non-null      float64\n",
      " 24  in_reply_to_status_id_extended  0 non-null      float64\n",
      " 25  in_reply_to_status_id_str       0 non-null      float64\n",
      " 26  in_reply_to_user_id_extended    0 non-null      float64\n",
      " 27  in_reply_to_user_id_str         0 non-null      float64\n",
      " 28  in_reply_to_screen_name         0 non-null      float64\n",
      " 29  user                            0 non-null      float64\n",
      " 30  geo                             0 non-null      float64\n",
      " 31  coordinates                     0 non-null      float64\n",
      " 32  place                           0 non-null      float64\n",
      " 33  contributors                    0 non-null      float64\n",
      " 34  is_quote_status                 0 non-null      float64\n",
      " 35  retweet_count                   0 non-null      float64\n",
      " 36  favorite_count                  0 non-null      float64\n",
      " 37  favorited                       0 non-null      float64\n",
      " 38  retweeted                       0 non-null      float64\n",
      " 39  possibly_sensitive              0 non-null      float64\n",
      " 40  possibly_sensitive_appealable   0 non-null      float64\n",
      " 41  lang                            0 non-null      float64\n",
      " 42  retweeted_status                0 non-null      float64\n",
      " 43  quoted_status_id                0 non-null      float64\n",
      " 44  quoted_status_id_str            0 non-null      float64\n",
      " 45  quoted_status                   0 non-null      float64\n",
      " 46  jpg_url                         2075 non-null   object \n",
      " 47  img_num                         2075 non-null   float64\n",
      " 48  p1                              2075 non-null   object \n",
      " 49  p1_conf                         2075 non-null   float64\n",
      " 50  p1_dog                          2075 non-null   object \n",
      " 51  p2                              2075 non-null   object \n",
      " 52  p2_conf                         2075 non-null   float64\n",
      " 53  p2_dog                          2075 non-null   object \n",
      " 54  p3                              2075 non-null   object \n",
      " 55  p3_conf                         2075 non-null   float64\n",
      " 56  p3_dog                          2075 non-null   object \n",
      "dtypes: float64(38), int64(2), object(17)\n",
      "memory usage: 1.1+ MB\n"
     ]
    }
   ],
   "source": [
    "all_df.replace('None', np.nan, inplace=True)\n",
    "all_df.info()"
   ]
  },
  {
   "cell_type": "code",
   "execution_count": 11,
   "id": "f3cc8573",
   "metadata": {},
   "outputs": [
    {
     "name": "stdout",
     "output_type": "stream",
     "text": [
      "<class 'pandas.core.frame.DataFrame'>\n",
      "RangeIndex: 2354 entries, 0 to 2353\n",
      "Data columns (total 31 columns):\n",
      " #   Column                         Non-Null Count  Dtype  \n",
      "---  ------                         --------------  -----  \n",
      " 0   created_at                     2354 non-null   object \n",
      " 1   id                             2354 non-null   int64  \n",
      " 2   id_str                         2354 non-null   object \n",
      " 3   full_text                      2354 non-null   object \n",
      " 4   truncated                      2354 non-null   bool   \n",
      " 5   display_text_range             2354 non-null   object \n",
      " 6   entities                       2354 non-null   object \n",
      " 7   extended_entities              2073 non-null   object \n",
      " 8   source                         2354 non-null   object \n",
      " 9   in_reply_to_status_id          78 non-null     float64\n",
      " 10  in_reply_to_status_id_str      78 non-null     object \n",
      " 11  in_reply_to_user_id            78 non-null     float64\n",
      " 12  in_reply_to_user_id_str        78 non-null     object \n",
      " 13  in_reply_to_screen_name        78 non-null     object \n",
      " 14  user                           2354 non-null   object \n",
      " 15  geo                            0 non-null      object \n",
      " 16  coordinates                    0 non-null      object \n",
      " 17  place                          1 non-null      object \n",
      " 18  contributors                   0 non-null      object \n",
      " 19  is_quote_status                2354 non-null   bool   \n",
      " 20  retweet_count                  2354 non-null   int64  \n",
      " 21  favorite_count                 2354 non-null   int64  \n",
      " 22  favorited                      2354 non-null   bool   \n",
      " 23  retweeted                      2354 non-null   bool   \n",
      " 24  possibly_sensitive             2211 non-null   object \n",
      " 25  possibly_sensitive_appealable  2211 non-null   object \n",
      " 26  lang                           2354 non-null   object \n",
      " 27  retweeted_status               179 non-null    object \n",
      " 28  quoted_status_id               29 non-null     float64\n",
      " 29  quoted_status_id_str           29 non-null     object \n",
      " 30  quoted_status                  28 non-null     object \n",
      "dtypes: bool(4), float64(3), int64(3), object(21)\n",
      "memory usage: 505.9+ KB\n"
     ]
    }
   ],
   "source": [
    "tweet_data.info()"
   ]
  },
  {
   "cell_type": "code",
   "execution_count": 12,
   "id": "9266698d",
   "metadata": {},
   "outputs": [
    {
     "name": "stdout",
     "output_type": "stream",
     "text": [
      "<class 'pandas.core.frame.DataFrame'>\n",
      "RangeIndex: 2075 entries, 0 to 2074\n",
      "Data columns (total 12 columns):\n",
      " #   Column    Non-Null Count  Dtype  \n",
      "---  ------    --------------  -----  \n",
      " 0   tweet_id  2075 non-null   int64  \n",
      " 1   jpg_url   2075 non-null   object \n",
      " 2   img_num   2075 non-null   int64  \n",
      " 3   p1        2075 non-null   object \n",
      " 4   p1_conf   2075 non-null   float64\n",
      " 5   p1_dog    2075 non-null   bool   \n",
      " 6   p2        2075 non-null   object \n",
      " 7   p2_conf   2075 non-null   float64\n",
      " 8   p2_dog    2075 non-null   bool   \n",
      " 9   p3        2075 non-null   object \n",
      " 10  p3_conf   2075 non-null   float64\n",
      " 11  p3_dog    2075 non-null   bool   \n",
      "dtypes: bool(3), float64(3), int64(2), object(4)\n",
      "memory usage: 152.1+ KB\n"
     ]
    }
   ],
   "source": [
    "image_predictions.info()"
   ]
  },
  {
   "cell_type": "code",
   "execution_count": 13,
   "id": "01f18918",
   "metadata": {},
   "outputs": [
    {
     "name": "stdout",
     "output_type": "stream",
     "text": [
      "<class 'pandas.core.frame.DataFrame'>\n",
      "RangeIndex: 2356 entries, 0 to 2355\n",
      "Data columns (total 17 columns):\n",
      " #   Column                      Non-Null Count  Dtype  \n",
      "---  ------                      --------------  -----  \n",
      " 0   tweet_id                    2356 non-null   int64  \n",
      " 1   in_reply_to_status_id       78 non-null     float64\n",
      " 2   in_reply_to_user_id         78 non-null     float64\n",
      " 3   timestamp                   2356 non-null   object \n",
      " 4   source                      2356 non-null   object \n",
      " 5   text                        2356 non-null   object \n",
      " 6   retweeted_status_id         181 non-null    float64\n",
      " 7   retweeted_status_user_id    181 non-null    float64\n",
      " 8   retweeted_status_timestamp  181 non-null    object \n",
      " 9   expanded_urls               2297 non-null   object \n",
      " 10  rating_numerator            2356 non-null   int64  \n",
      " 11  rating_denominator          2356 non-null   int64  \n",
      " 12  name                        2356 non-null   object \n",
      " 13  doggo                       2356 non-null   object \n",
      " 14  floofer                     2356 non-null   object \n",
      " 15  pupper                      2356 non-null   object \n",
      " 16  puppo                       2356 non-null   object \n",
      "dtypes: float64(4), int64(3), object(10)\n",
      "memory usage: 313.0+ KB\n"
     ]
    }
   ],
   "source": [
    "twitter_archive.info()"
   ]
  },
  {
   "cell_type": "code",
   "execution_count": 14,
   "id": "f0140044",
   "metadata": {},
   "outputs": [],
   "source": [
    "# Create a copy from each data frame to be used in cleaning processes and keep original one as it is:\n",
    "twitter_archive_clean = twitter_archive.copy()\n",
    "image_predictions_clean = image_predictions.copy()\n",
    "tweet_data_clean = tweet_data.copy()"
   ]
  },
  {
   "cell_type": "markdown",
   "id": "dfaddec9",
   "metadata": {},
   "source": [
    "## Assess Twitter-archive-enhanced data"
   ]
  },
  {
   "cell_type": "code",
   "execution_count": 15,
   "id": "368e3d63",
   "metadata": {},
   "outputs": [
    {
     "data": {
      "text/html": [
       "<div>\n",
       "<style scoped>\n",
       "    .dataframe tbody tr th:only-of-type {\n",
       "        vertical-align: middle;\n",
       "    }\n",
       "\n",
       "    .dataframe tbody tr th {\n",
       "        vertical-align: top;\n",
       "    }\n",
       "\n",
       "    .dataframe thead th {\n",
       "        text-align: right;\n",
       "    }\n",
       "</style>\n",
       "<table border=\"1\" class=\"dataframe\">\n",
       "  <thead>\n",
       "    <tr style=\"text-align: right;\">\n",
       "      <th></th>\n",
       "      <th>tweet_id</th>\n",
       "      <th>in_reply_to_status_id</th>\n",
       "      <th>in_reply_to_user_id</th>\n",
       "      <th>timestamp</th>\n",
       "      <th>source</th>\n",
       "      <th>text</th>\n",
       "      <th>retweeted_status_id</th>\n",
       "      <th>retweeted_status_user_id</th>\n",
       "      <th>retweeted_status_timestamp</th>\n",
       "      <th>expanded_urls</th>\n",
       "      <th>rating_numerator</th>\n",
       "      <th>rating_denominator</th>\n",
       "      <th>name</th>\n",
       "      <th>doggo</th>\n",
       "      <th>floofer</th>\n",
       "      <th>pupper</th>\n",
       "      <th>puppo</th>\n",
       "    </tr>\n",
       "  </thead>\n",
       "  <tbody>\n",
       "    <tr>\n",
       "      <th>265</th>\n",
       "      <td>842115215311396866</td>\n",
       "      <td>NaN</td>\n",
       "      <td>NaN</td>\n",
       "      <td>2017-03-15 20:48:07 +0000</td>\n",
       "      <td>&lt;a href=\"http://twitter.com/download/iphone\" r...</td>\n",
       "      <td>This is Bentley. It's his first time going to ...</td>\n",
       "      <td>NaN</td>\n",
       "      <td>NaN</td>\n",
       "      <td>NaN</td>\n",
       "      <td>https://twitter.com/dog_rates/status/842115215...</td>\n",
       "      <td>12</td>\n",
       "      <td>10</td>\n",
       "      <td>Bentley</td>\n",
       "      <td>None</td>\n",
       "      <td>None</td>\n",
       "      <td>None</td>\n",
       "      <td>None</td>\n",
       "    </tr>\n",
       "    <tr>\n",
       "      <th>1428</th>\n",
       "      <td>697616773278015490</td>\n",
       "      <td>NaN</td>\n",
       "      <td>NaN</td>\n",
       "      <td>2016-02-11 03:02:54 +0000</td>\n",
       "      <td>&lt;a href=\"http://twitter.com/download/iphone\" r...</td>\n",
       "      <td>This pupper doubles as a hallway rug. Very rar...</td>\n",
       "      <td>NaN</td>\n",
       "      <td>NaN</td>\n",
       "      <td>NaN</td>\n",
       "      <td>https://twitter.com/dog_rates/status/697616773...</td>\n",
       "      <td>11</td>\n",
       "      <td>10</td>\n",
       "      <td>None</td>\n",
       "      <td>None</td>\n",
       "      <td>None</td>\n",
       "      <td>pupper</td>\n",
       "      <td>None</td>\n",
       "    </tr>\n",
       "    <tr>\n",
       "      <th>1035</th>\n",
       "      <td>744995568523612160</td>\n",
       "      <td>NaN</td>\n",
       "      <td>NaN</td>\n",
       "      <td>2016-06-20 20:49:19 +0000</td>\n",
       "      <td>&lt;a href=\"http://twitter.com/download/iphone\" r...</td>\n",
       "      <td>This is Abby. She got her face stuck in a glas...</td>\n",
       "      <td>NaN</td>\n",
       "      <td>NaN</td>\n",
       "      <td>NaN</td>\n",
       "      <td>https://twitter.com/dog_rates/status/744995568...</td>\n",
       "      <td>9</td>\n",
       "      <td>10</td>\n",
       "      <td>Abby</td>\n",
       "      <td>None</td>\n",
       "      <td>None</td>\n",
       "      <td>None</td>\n",
       "      <td>puppo</td>\n",
       "    </tr>\n",
       "    <tr>\n",
       "      <th>1619</th>\n",
       "      <td>684959798585110529</td>\n",
       "      <td>NaN</td>\n",
       "      <td>NaN</td>\n",
       "      <td>2016-01-07 04:48:36 +0000</td>\n",
       "      <td>&lt;a href=\"http://twitter.com/download/iphone\" r...</td>\n",
       "      <td>This is Jerry. He's a neat dog. No legs (tragi...</td>\n",
       "      <td>NaN</td>\n",
       "      <td>NaN</td>\n",
       "      <td>NaN</td>\n",
       "      <td>https://twitter.com/dog_rates/status/684959798...</td>\n",
       "      <td>5</td>\n",
       "      <td>10</td>\n",
       "      <td>Jerry</td>\n",
       "      <td>None</td>\n",
       "      <td>None</td>\n",
       "      <td>None</td>\n",
       "      <td>None</td>\n",
       "    </tr>\n",
       "    <tr>\n",
       "      <th>1018</th>\n",
       "      <td>746818907684614144</td>\n",
       "      <td>6.914169e+17</td>\n",
       "      <td>4.196984e+09</td>\n",
       "      <td>2016-06-25 21:34:37 +0000</td>\n",
       "      <td>&lt;a href=\"http://twitter.com/download/iphone\" r...</td>\n",
       "      <td>Guys... Dog Jesus 2.0\\n13/10 buoyant af https:...</td>\n",
       "      <td>NaN</td>\n",
       "      <td>NaN</td>\n",
       "      <td>NaN</td>\n",
       "      <td>https://twitter.com/dog_rates/status/746818907...</td>\n",
       "      <td>13</td>\n",
       "      <td>10</td>\n",
       "      <td>None</td>\n",
       "      <td>None</td>\n",
       "      <td>None</td>\n",
       "      <td>None</td>\n",
       "      <td>None</td>\n",
       "    </tr>\n",
       "    <tr>\n",
       "      <th>436</th>\n",
       "      <td>820314633777061888</td>\n",
       "      <td>NaN</td>\n",
       "      <td>NaN</td>\n",
       "      <td>2017-01-14 17:00:24 +0000</td>\n",
       "      <td>&lt;a href=\"http://twitter.com/download/iphone\" r...</td>\n",
       "      <td>We are proud to support @LoveYourMelon on thei...</td>\n",
       "      <td>NaN</td>\n",
       "      <td>NaN</td>\n",
       "      <td>NaN</td>\n",
       "      <td>https://www.loveyourmelon.com/pages/ourstory,h...</td>\n",
       "      <td>14</td>\n",
       "      <td>10</td>\n",
       "      <td>None</td>\n",
       "      <td>None</td>\n",
       "      <td>None</td>\n",
       "      <td>None</td>\n",
       "      <td>None</td>\n",
       "    </tr>\n",
       "    <tr>\n",
       "      <th>1482</th>\n",
       "      <td>693267061318012928</td>\n",
       "      <td>NaN</td>\n",
       "      <td>NaN</td>\n",
       "      <td>2016-01-30 02:58:42 +0000</td>\n",
       "      <td>&lt;a href=\"http://vine.co\" rel=\"nofollow\"&gt;Vine -...</td>\n",
       "      <td>This is Oscar. He can wave. Friendly af. 12/10...</td>\n",
       "      <td>NaN</td>\n",
       "      <td>NaN</td>\n",
       "      <td>NaN</td>\n",
       "      <td>https://vine.co/v/i5n2irFUYWv</td>\n",
       "      <td>12</td>\n",
       "      <td>10</td>\n",
       "      <td>Oscar</td>\n",
       "      <td>None</td>\n",
       "      <td>None</td>\n",
       "      <td>None</td>\n",
       "      <td>None</td>\n",
       "    </tr>\n",
       "    <tr>\n",
       "      <th>880</th>\n",
       "      <td>760539183865880579</td>\n",
       "      <td>NaN</td>\n",
       "      <td>NaN</td>\n",
       "      <td>2016-08-02 18:14:06 +0000</td>\n",
       "      <td>&lt;a href=\"http://twitter.com/download/iphone\" r...</td>\n",
       "      <td>This is Atlas. Swinging is his passion. 12/10 ...</td>\n",
       "      <td>NaN</td>\n",
       "      <td>NaN</td>\n",
       "      <td>NaN</td>\n",
       "      <td>https://twitter.com/dog_rates/status/760539183...</td>\n",
       "      <td>12</td>\n",
       "      <td>10</td>\n",
       "      <td>Atlas</td>\n",
       "      <td>None</td>\n",
       "      <td>None</td>\n",
       "      <td>None</td>\n",
       "      <td>None</td>\n",
       "    </tr>\n",
       "    <tr>\n",
       "      <th>1285</th>\n",
       "      <td>708469915515297792</td>\n",
       "      <td>NaN</td>\n",
       "      <td>NaN</td>\n",
       "      <td>2016-03-12 01:49:25 +0000</td>\n",
       "      <td>&lt;a href=\"http://twitter.com/download/iphone\" r...</td>\n",
       "      <td>This is Bobble. He's a Croatian Galifianakis. ...</td>\n",
       "      <td>NaN</td>\n",
       "      <td>NaN</td>\n",
       "      <td>NaN</td>\n",
       "      <td>https://twitter.com/dog_rates/status/708469915...</td>\n",
       "      <td>11</td>\n",
       "      <td>10</td>\n",
       "      <td>Bobble</td>\n",
       "      <td>None</td>\n",
       "      <td>None</td>\n",
       "      <td>None</td>\n",
       "      <td>None</td>\n",
       "    </tr>\n",
       "    <tr>\n",
       "      <th>1233</th>\n",
       "      <td>712809025985978368</td>\n",
       "      <td>NaN</td>\n",
       "      <td>NaN</td>\n",
       "      <td>2016-03-24 01:11:29 +0000</td>\n",
       "      <td>&lt;a href=\"http://twitter.com/download/iphone\" r...</td>\n",
       "      <td>This is Stubert. He just arrived. 10/10 https:...</td>\n",
       "      <td>NaN</td>\n",
       "      <td>NaN</td>\n",
       "      <td>NaN</td>\n",
       "      <td>https://twitter.com/dog_rates/status/712809025...</td>\n",
       "      <td>10</td>\n",
       "      <td>10</td>\n",
       "      <td>Stubert</td>\n",
       "      <td>None</td>\n",
       "      <td>None</td>\n",
       "      <td>None</td>\n",
       "      <td>None</td>\n",
       "    </tr>\n",
       "  </tbody>\n",
       "</table>\n",
       "</div>"
      ],
      "text/plain": [
       "                tweet_id  in_reply_to_status_id  in_reply_to_user_id  \\\n",
       "265   842115215311396866                    NaN                  NaN   \n",
       "1428  697616773278015490                    NaN                  NaN   \n",
       "1035  744995568523612160                    NaN                  NaN   \n",
       "1619  684959798585110529                    NaN                  NaN   \n",
       "1018  746818907684614144           6.914169e+17         4.196984e+09   \n",
       "436   820314633777061888                    NaN                  NaN   \n",
       "1482  693267061318012928                    NaN                  NaN   \n",
       "880   760539183865880579                    NaN                  NaN   \n",
       "1285  708469915515297792                    NaN                  NaN   \n",
       "1233  712809025985978368                    NaN                  NaN   \n",
       "\n",
       "                      timestamp  \\\n",
       "265   2017-03-15 20:48:07 +0000   \n",
       "1428  2016-02-11 03:02:54 +0000   \n",
       "1035  2016-06-20 20:49:19 +0000   \n",
       "1619  2016-01-07 04:48:36 +0000   \n",
       "1018  2016-06-25 21:34:37 +0000   \n",
       "436   2017-01-14 17:00:24 +0000   \n",
       "1482  2016-01-30 02:58:42 +0000   \n",
       "880   2016-08-02 18:14:06 +0000   \n",
       "1285  2016-03-12 01:49:25 +0000   \n",
       "1233  2016-03-24 01:11:29 +0000   \n",
       "\n",
       "                                                 source  \\\n",
       "265   <a href=\"http://twitter.com/download/iphone\" r...   \n",
       "1428  <a href=\"http://twitter.com/download/iphone\" r...   \n",
       "1035  <a href=\"http://twitter.com/download/iphone\" r...   \n",
       "1619  <a href=\"http://twitter.com/download/iphone\" r...   \n",
       "1018  <a href=\"http://twitter.com/download/iphone\" r...   \n",
       "436   <a href=\"http://twitter.com/download/iphone\" r...   \n",
       "1482  <a href=\"http://vine.co\" rel=\"nofollow\">Vine -...   \n",
       "880   <a href=\"http://twitter.com/download/iphone\" r...   \n",
       "1285  <a href=\"http://twitter.com/download/iphone\" r...   \n",
       "1233  <a href=\"http://twitter.com/download/iphone\" r...   \n",
       "\n",
       "                                                   text  retweeted_status_id  \\\n",
       "265   This is Bentley. It's his first time going to ...                  NaN   \n",
       "1428  This pupper doubles as a hallway rug. Very rar...                  NaN   \n",
       "1035  This is Abby. She got her face stuck in a glas...                  NaN   \n",
       "1619  This is Jerry. He's a neat dog. No legs (tragi...                  NaN   \n",
       "1018  Guys... Dog Jesus 2.0\\n13/10 buoyant af https:...                  NaN   \n",
       "436   We are proud to support @LoveYourMelon on thei...                  NaN   \n",
       "1482  This is Oscar. He can wave. Friendly af. 12/10...                  NaN   \n",
       "880   This is Atlas. Swinging is his passion. 12/10 ...                  NaN   \n",
       "1285  This is Bobble. He's a Croatian Galifianakis. ...                  NaN   \n",
       "1233  This is Stubert. He just arrived. 10/10 https:...                  NaN   \n",
       "\n",
       "      retweeted_status_user_id retweeted_status_timestamp  \\\n",
       "265                        NaN                        NaN   \n",
       "1428                       NaN                        NaN   \n",
       "1035                       NaN                        NaN   \n",
       "1619                       NaN                        NaN   \n",
       "1018                       NaN                        NaN   \n",
       "436                        NaN                        NaN   \n",
       "1482                       NaN                        NaN   \n",
       "880                        NaN                        NaN   \n",
       "1285                       NaN                        NaN   \n",
       "1233                       NaN                        NaN   \n",
       "\n",
       "                                          expanded_urls  rating_numerator  \\\n",
       "265   https://twitter.com/dog_rates/status/842115215...                12   \n",
       "1428  https://twitter.com/dog_rates/status/697616773...                11   \n",
       "1035  https://twitter.com/dog_rates/status/744995568...                 9   \n",
       "1619  https://twitter.com/dog_rates/status/684959798...                 5   \n",
       "1018  https://twitter.com/dog_rates/status/746818907...                13   \n",
       "436   https://www.loveyourmelon.com/pages/ourstory,h...                14   \n",
       "1482                      https://vine.co/v/i5n2irFUYWv                12   \n",
       "880   https://twitter.com/dog_rates/status/760539183...                12   \n",
       "1285  https://twitter.com/dog_rates/status/708469915...                11   \n",
       "1233  https://twitter.com/dog_rates/status/712809025...                10   \n",
       "\n",
       "      rating_denominator     name doggo floofer  pupper  puppo  \n",
       "265                   10  Bentley  None    None    None   None  \n",
       "1428                  10     None  None    None  pupper   None  \n",
       "1035                  10     Abby  None    None    None  puppo  \n",
       "1619                  10    Jerry  None    None    None   None  \n",
       "1018                  10     None  None    None    None   None  \n",
       "436                   10     None  None    None    None   None  \n",
       "1482                  10    Oscar  None    None    None   None  \n",
       "880                   10    Atlas  None    None    None   None  \n",
       "1285                  10   Bobble  None    None    None   None  \n",
       "1233                  10  Stubert  None    None    None   None  "
      ]
     },
     "execution_count": 15,
     "metadata": {},
     "output_type": "execute_result"
    }
   ],
   "source": [
    "twitter_archive_clean.sample(10)"
   ]
  },
  {
   "cell_type": "code",
   "execution_count": 16,
   "id": "eca9cf60",
   "metadata": {},
   "outputs": [
    {
     "data": {
      "text/html": [
       "<div>\n",
       "<style scoped>\n",
       "    .dataframe tbody tr th:only-of-type {\n",
       "        vertical-align: middle;\n",
       "    }\n",
       "\n",
       "    .dataframe tbody tr th {\n",
       "        vertical-align: top;\n",
       "    }\n",
       "\n",
       "    .dataframe thead th {\n",
       "        text-align: right;\n",
       "    }\n",
       "</style>\n",
       "<table border=\"1\" class=\"dataframe\">\n",
       "  <thead>\n",
       "    <tr style=\"text-align: right;\">\n",
       "      <th></th>\n",
       "      <th>tweet_id</th>\n",
       "      <th>jpg_url</th>\n",
       "      <th>img_num</th>\n",
       "      <th>p1</th>\n",
       "      <th>p1_conf</th>\n",
       "      <th>p1_dog</th>\n",
       "      <th>p2</th>\n",
       "      <th>p2_conf</th>\n",
       "      <th>p2_dog</th>\n",
       "      <th>p3</th>\n",
       "      <th>p3_conf</th>\n",
       "      <th>p3_dog</th>\n",
       "    </tr>\n",
       "  </thead>\n",
       "  <tbody>\n",
       "    <tr>\n",
       "      <th>1511</th>\n",
       "      <td>786233965241827333</td>\n",
       "      <td>https://pbs.twimg.com/media/CulDnZpWcAAGbZ-.jpg</td>\n",
       "      <td>1</td>\n",
       "      <td>Labrador_retriever</td>\n",
       "      <td>0.478193</td>\n",
       "      <td>True</td>\n",
       "      <td>schipperke</td>\n",
       "      <td>0.224817</td>\n",
       "      <td>True</td>\n",
       "      <td>Staffordshire_bullterrier</td>\n",
       "      <td>0.077396</td>\n",
       "      <td>True</td>\n",
       "    </tr>\n",
       "    <tr>\n",
       "      <th>1413</th>\n",
       "      <td>771004394259247104</td>\n",
       "      <td>https://pbs.twimg.com/media/CrMmVqyWcAIDCHI.jpg</td>\n",
       "      <td>1</td>\n",
       "      <td>home_theater</td>\n",
       "      <td>0.414338</td>\n",
       "      <td>False</td>\n",
       "      <td>iPod</td>\n",
       "      <td>0.052741</td>\n",
       "      <td>False</td>\n",
       "      <td>pop_bottle</td>\n",
       "      <td>0.048821</td>\n",
       "      <td>False</td>\n",
       "    </tr>\n",
       "    <tr>\n",
       "      <th>1732</th>\n",
       "      <td>821149554670182400</td>\n",
       "      <td>https://pbs.twimg.com/ext_tw_video_thumb/82114...</td>\n",
       "      <td>1</td>\n",
       "      <td>German_shepherd</td>\n",
       "      <td>0.515933</td>\n",
       "      <td>True</td>\n",
       "      <td>malinois</td>\n",
       "      <td>0.203651</td>\n",
       "      <td>True</td>\n",
       "      <td>Irish_setter</td>\n",
       "      <td>0.091055</td>\n",
       "      <td>True</td>\n",
       "    </tr>\n",
       "    <tr>\n",
       "      <th>850</th>\n",
       "      <td>695767669421768709</td>\n",
       "      <td>https://pbs.twimg.com/media/CafdAWCW0AE3Igl.jpg</td>\n",
       "      <td>1</td>\n",
       "      <td>soft-coated_wheaten_terrier</td>\n",
       "      <td>0.805139</td>\n",
       "      <td>True</td>\n",
       "      <td>Lakeland_terrier</td>\n",
       "      <td>0.121662</td>\n",
       "      <td>True</td>\n",
       "      <td>Afghan_hound</td>\n",
       "      <td>0.023303</td>\n",
       "      <td>True</td>\n",
       "    </tr>\n",
       "    <tr>\n",
       "      <th>2011</th>\n",
       "      <td>879008229531029506</td>\n",
       "      <td>https://pbs.twimg.com/media/DDLdUrqXYAMOVzY.jpg</td>\n",
       "      <td>1</td>\n",
       "      <td>vizsla</td>\n",
       "      <td>0.960513</td>\n",
       "      <td>True</td>\n",
       "      <td>miniature_pinscher</td>\n",
       "      <td>0.009431</td>\n",
       "      <td>True</td>\n",
       "      <td>American_Staffordshire_terrier</td>\n",
       "      <td>0.008711</td>\n",
       "      <td>True</td>\n",
       "    </tr>\n",
       "    <tr>\n",
       "      <th>677</th>\n",
       "      <td>683481228088049664</td>\n",
       "      <td>https://pbs.twimg.com/media/CXw2jSpWMAAad6V.jpg</td>\n",
       "      <td>1</td>\n",
       "      <td>keeshond</td>\n",
       "      <td>0.508951</td>\n",
       "      <td>True</td>\n",
       "      <td>chow</td>\n",
       "      <td>0.442016</td>\n",
       "      <td>True</td>\n",
       "      <td>German_shepherd</td>\n",
       "      <td>0.013206</td>\n",
       "      <td>True</td>\n",
       "    </tr>\n",
       "    <tr>\n",
       "      <th>595</th>\n",
       "      <td>679511351870550016</td>\n",
       "      <td>https://pbs.twimg.com/media/CW4b-GUWYAAa8QO.jpg</td>\n",
       "      <td>1</td>\n",
       "      <td>Chihuahua</td>\n",
       "      <td>0.761972</td>\n",
       "      <td>True</td>\n",
       "      <td>black-footed_ferret</td>\n",
       "      <td>0.150605</td>\n",
       "      <td>False</td>\n",
       "      <td>squirrel_monkey</td>\n",
       "      <td>0.028148</td>\n",
       "      <td>False</td>\n",
       "    </tr>\n",
       "    <tr>\n",
       "      <th>1938</th>\n",
       "      <td>860524505164394496</td>\n",
       "      <td>https://pbs.twimg.com/media/C_EyeKuXkAAdxY-.jpg</td>\n",
       "      <td>1</td>\n",
       "      <td>Bedlington_terrier</td>\n",
       "      <td>0.286558</td>\n",
       "      <td>True</td>\n",
       "      <td>toy_poodle</td>\n",
       "      <td>0.235193</td>\n",
       "      <td>True</td>\n",
       "      <td>Lakeland_terrier</td>\n",
       "      <td>0.087951</td>\n",
       "      <td>True</td>\n",
       "    </tr>\n",
       "    <tr>\n",
       "      <th>922</th>\n",
       "      <td>702217446468493312</td>\n",
       "      <td>https://pbs.twimg.com/media/Cb7HCMkWEAAV9zY.jpg</td>\n",
       "      <td>1</td>\n",
       "      <td>golden_retriever</td>\n",
       "      <td>0.242419</td>\n",
       "      <td>True</td>\n",
       "      <td>chow</td>\n",
       "      <td>0.226800</td>\n",
       "      <td>True</td>\n",
       "      <td>cocker_spaniel</td>\n",
       "      <td>0.194086</td>\n",
       "      <td>True</td>\n",
       "    </tr>\n",
       "    <tr>\n",
       "      <th>654</th>\n",
       "      <td>682059653698686977</td>\n",
       "      <td>https://pbs.twimg.com/media/CXcpovWWMAAMcfv.jpg</td>\n",
       "      <td>2</td>\n",
       "      <td>jigsaw_puzzle</td>\n",
       "      <td>0.995873</td>\n",
       "      <td>False</td>\n",
       "      <td>Siamese_cat</td>\n",
       "      <td>0.000781</td>\n",
       "      <td>False</td>\n",
       "      <td>pizza</td>\n",
       "      <td>0.000432</td>\n",
       "      <td>False</td>\n",
       "    </tr>\n",
       "  </tbody>\n",
       "</table>\n",
       "</div>"
      ],
      "text/plain": [
       "                tweet_id                                            jpg_url  \\\n",
       "1511  786233965241827333    https://pbs.twimg.com/media/CulDnZpWcAAGbZ-.jpg   \n",
       "1413  771004394259247104    https://pbs.twimg.com/media/CrMmVqyWcAIDCHI.jpg   \n",
       "1732  821149554670182400  https://pbs.twimg.com/ext_tw_video_thumb/82114...   \n",
       "850   695767669421768709    https://pbs.twimg.com/media/CafdAWCW0AE3Igl.jpg   \n",
       "2011  879008229531029506    https://pbs.twimg.com/media/DDLdUrqXYAMOVzY.jpg   \n",
       "677   683481228088049664    https://pbs.twimg.com/media/CXw2jSpWMAAad6V.jpg   \n",
       "595   679511351870550016    https://pbs.twimg.com/media/CW4b-GUWYAAa8QO.jpg   \n",
       "1938  860524505164394496    https://pbs.twimg.com/media/C_EyeKuXkAAdxY-.jpg   \n",
       "922   702217446468493312    https://pbs.twimg.com/media/Cb7HCMkWEAAV9zY.jpg   \n",
       "654   682059653698686977    https://pbs.twimg.com/media/CXcpovWWMAAMcfv.jpg   \n",
       "\n",
       "      img_num                           p1   p1_conf  p1_dog  \\\n",
       "1511        1           Labrador_retriever  0.478193    True   \n",
       "1413        1                 home_theater  0.414338   False   \n",
       "1732        1              German_shepherd  0.515933    True   \n",
       "850         1  soft-coated_wheaten_terrier  0.805139    True   \n",
       "2011        1                       vizsla  0.960513    True   \n",
       "677         1                     keeshond  0.508951    True   \n",
       "595         1                    Chihuahua  0.761972    True   \n",
       "1938        1           Bedlington_terrier  0.286558    True   \n",
       "922         1             golden_retriever  0.242419    True   \n",
       "654         2                jigsaw_puzzle  0.995873   False   \n",
       "\n",
       "                       p2   p2_conf  p2_dog                              p3  \\\n",
       "1511           schipperke  0.224817    True       Staffordshire_bullterrier   \n",
       "1413                 iPod  0.052741   False                      pop_bottle   \n",
       "1732             malinois  0.203651    True                    Irish_setter   \n",
       "850      Lakeland_terrier  0.121662    True                    Afghan_hound   \n",
       "2011   miniature_pinscher  0.009431    True  American_Staffordshire_terrier   \n",
       "677                  chow  0.442016    True                 German_shepherd   \n",
       "595   black-footed_ferret  0.150605   False                 squirrel_monkey   \n",
       "1938           toy_poodle  0.235193    True                Lakeland_terrier   \n",
       "922                  chow  0.226800    True                  cocker_spaniel   \n",
       "654           Siamese_cat  0.000781   False                           pizza   \n",
       "\n",
       "       p3_conf  p3_dog  \n",
       "1511  0.077396    True  \n",
       "1413  0.048821   False  \n",
       "1732  0.091055    True  \n",
       "850   0.023303    True  \n",
       "2011  0.008711    True  \n",
       "677   0.013206    True  \n",
       "595   0.028148   False  \n",
       "1938  0.087951    True  \n",
       "922   0.194086    True  \n",
       "654   0.000432   False  "
      ]
     },
     "execution_count": 16,
     "metadata": {},
     "output_type": "execute_result"
    }
   ],
   "source": [
    "image_predictions.sample(10)"
   ]
  },
  {
   "cell_type": "code",
   "execution_count": 17,
   "id": "2b37dd1b",
   "metadata": {},
   "outputs": [
    {
     "data": {
      "text/html": [
       "<div>\n",
       "<style scoped>\n",
       "    .dataframe tbody tr th:only-of-type {\n",
       "        vertical-align: middle;\n",
       "    }\n",
       "\n",
       "    .dataframe tbody tr th {\n",
       "        vertical-align: top;\n",
       "    }\n",
       "\n",
       "    .dataframe thead th {\n",
       "        text-align: right;\n",
       "    }\n",
       "</style>\n",
       "<table border=\"1\" class=\"dataframe\">\n",
       "  <thead>\n",
       "    <tr style=\"text-align: right;\">\n",
       "      <th></th>\n",
       "      <th>created_at</th>\n",
       "      <th>id</th>\n",
       "      <th>id_str</th>\n",
       "      <th>full_text</th>\n",
       "      <th>truncated</th>\n",
       "      <th>display_text_range</th>\n",
       "      <th>entities</th>\n",
       "      <th>extended_entities</th>\n",
       "      <th>source</th>\n",
       "      <th>in_reply_to_status_id</th>\n",
       "      <th>...</th>\n",
       "      <th>favorite_count</th>\n",
       "      <th>favorited</th>\n",
       "      <th>retweeted</th>\n",
       "      <th>possibly_sensitive</th>\n",
       "      <th>possibly_sensitive_appealable</th>\n",
       "      <th>lang</th>\n",
       "      <th>retweeted_status</th>\n",
       "      <th>quoted_status_id</th>\n",
       "      <th>quoted_status_id_str</th>\n",
       "      <th>quoted_status</th>\n",
       "    </tr>\n",
       "  </thead>\n",
       "  <tbody>\n",
       "    <tr>\n",
       "      <th>577</th>\n",
       "      <td>Mon Nov 21 17:23:47 +0000 2016</td>\n",
       "      <td>800751577355128832</td>\n",
       "      <td>800751577355128832</td>\n",
       "      <td>Say hello to Mauve and Murphy. They're rather ...</td>\n",
       "      <td>False</td>\n",
       "      <td>[0, 96]</td>\n",
       "      <td>{'hashtags': [], 'symbols': [], 'user_mentions...</td>\n",
       "      <td>{'media': [{'id': 800751482706493448, 'id_str'...</td>\n",
       "      <td>&lt;a href=\"http://twitter.com/download/iphone\" r...</td>\n",
       "      <td>NaN</td>\n",
       "      <td>...</td>\n",
       "      <td>11701</td>\n",
       "      <td>False</td>\n",
       "      <td>False</td>\n",
       "      <td>False</td>\n",
       "      <td>False</td>\n",
       "      <td>en</td>\n",
       "      <td>NaN</td>\n",
       "      <td>NaN</td>\n",
       "      <td>NaN</td>\n",
       "      <td>NaN</td>\n",
       "    </tr>\n",
       "    <tr>\n",
       "      <th>1135</th>\n",
       "      <td>Thu May 05 02:21:37 +0000 2016</td>\n",
       "      <td>728046963732717569</td>\n",
       "      <td>728046963732717569</td>\n",
       "      <td>This is Raymond. He controls fountains with hi...</td>\n",
       "      <td>False</td>\n",
       "      <td>[0, 81]</td>\n",
       "      <td>{'hashtags': [], 'symbols': [], 'user_mentions...</td>\n",
       "      <td>{'media': [{'id': 728046957697052672, 'id_str'...</td>\n",
       "      <td>&lt;a href=\"http://twitter.com/download/iphone\" r...</td>\n",
       "      <td>NaN</td>\n",
       "      <td>...</td>\n",
       "      <td>4722</td>\n",
       "      <td>False</td>\n",
       "      <td>False</td>\n",
       "      <td>False</td>\n",
       "      <td>False</td>\n",
       "      <td>en</td>\n",
       "      <td>NaN</td>\n",
       "      <td>NaN</td>\n",
       "      <td>NaN</td>\n",
       "      <td>NaN</td>\n",
       "    </tr>\n",
       "    <tr>\n",
       "      <th>382</th>\n",
       "      <td>Thu Feb 02 17:00:17 +0000 2017</td>\n",
       "      <td>827199976799354881</td>\n",
       "      <td>827199976799354881</td>\n",
       "      <td>This is Charlie. He wins every game of chess h...</td>\n",
       "      <td>False</td>\n",
       "      <td>[0, 129]</td>\n",
       "      <td>{'hashtags': [], 'symbols': [], 'user_mentions...</td>\n",
       "      <td>{'media': [{'id': 827199955093843969, 'id_str'...</td>\n",
       "      <td>&lt;a href=\"http://twitter.com/download/iphone\" r...</td>\n",
       "      <td>NaN</td>\n",
       "      <td>...</td>\n",
       "      <td>11659</td>\n",
       "      <td>False</td>\n",
       "      <td>False</td>\n",
       "      <td>False</td>\n",
       "      <td>False</td>\n",
       "      <td>en</td>\n",
       "      <td>NaN</td>\n",
       "      <td>NaN</td>\n",
       "      <td>NaN</td>\n",
       "      <td>NaN</td>\n",
       "    </tr>\n",
       "    <tr>\n",
       "      <th>1432</th>\n",
       "      <td>Wed Feb 10 04:06:43 +0000 2016</td>\n",
       "      <td>697270446429966336</td>\n",
       "      <td>697270446429966336</td>\n",
       "      <td>This is Bentley. He got stuck on his 3rd homew...</td>\n",
       "      <td>False</td>\n",
       "      <td>[0, 138]</td>\n",
       "      <td>{'hashtags': [], 'symbols': [], 'user_mentions...</td>\n",
       "      <td>{'media': [{'id': 697270435977818113, 'id_str'...</td>\n",
       "      <td>&lt;a href=\"http://twitter.com/download/iphone\" r...</td>\n",
       "      <td>NaN</td>\n",
       "      <td>...</td>\n",
       "      <td>5131</td>\n",
       "      <td>False</td>\n",
       "      <td>False</td>\n",
       "      <td>False</td>\n",
       "      <td>False</td>\n",
       "      <td>en</td>\n",
       "      <td>NaN</td>\n",
       "      <td>NaN</td>\n",
       "      <td>NaN</td>\n",
       "      <td>NaN</td>\n",
       "    </tr>\n",
       "    <tr>\n",
       "      <th>2266</th>\n",
       "      <td>Fri Nov 20 01:39:42 +0000 2015</td>\n",
       "      <td>667517642048163840</td>\n",
       "      <td>667517642048163840</td>\n",
       "      <td>This is Dook &amp;amp; Milo. Dook is struggling to...</td>\n",
       "      <td>False</td>\n",
       "      <td>[0, 143]</td>\n",
       "      <td>{'hashtags': [], 'symbols': [], 'user_mentions...</td>\n",
       "      <td>{'media': [{'id': 667517641523761152, 'id_str'...</td>\n",
       "      <td>&lt;a href=\"http://twitter.com\" rel=\"nofollow\"&gt;Tw...</td>\n",
       "      <td>NaN</td>\n",
       "      <td>...</td>\n",
       "      <td>389</td>\n",
       "      <td>False</td>\n",
       "      <td>False</td>\n",
       "      <td>False</td>\n",
       "      <td>False</td>\n",
       "      <td>en</td>\n",
       "      <td>NaN</td>\n",
       "      <td>NaN</td>\n",
       "      <td>NaN</td>\n",
       "      <td>NaN</td>\n",
       "    </tr>\n",
       "    <tr>\n",
       "      <th>1165</th>\n",
       "      <td>Sun Apr 17 00:58:53 +0000 2016</td>\n",
       "      <td>721503162398597120</td>\n",
       "      <td>721503162398597120</td>\n",
       "      <td>This is Panda. He's happy af. 11/10 https://t....</td>\n",
       "      <td>False</td>\n",
       "      <td>[0, 35]</td>\n",
       "      <td>{'hashtags': [], 'symbols': [], 'user_mentions...</td>\n",
       "      <td>{'media': [{'id': 721503152168681472, 'id_str'...</td>\n",
       "      <td>&lt;a href=\"http://twitter.com/download/iphone\" r...</td>\n",
       "      <td>NaN</td>\n",
       "      <td>...</td>\n",
       "      <td>5086</td>\n",
       "      <td>False</td>\n",
       "      <td>False</td>\n",
       "      <td>False</td>\n",
       "      <td>False</td>\n",
       "      <td>en</td>\n",
       "      <td>NaN</td>\n",
       "      <td>NaN</td>\n",
       "      <td>NaN</td>\n",
       "      <td>NaN</td>\n",
       "    </tr>\n",
       "    <tr>\n",
       "      <th>836</th>\n",
       "      <td>Sun Aug 21 23:15:55 +0000 2016</td>\n",
       "      <td>767500508068192258</td>\n",
       "      <td>767500508068192258</td>\n",
       "      <td>This is Louie. He's making quite a h*ckin mess...</td>\n",
       "      <td>False</td>\n",
       "      <td>[0, 87]</td>\n",
       "      <td>{'hashtags': [], 'symbols': [], 'user_mentions...</td>\n",
       "      <td>{'media': [{'id': 767500493799231488, 'id_str'...</td>\n",
       "      <td>&lt;a href=\"http://twitter.com/download/iphone\" r...</td>\n",
       "      <td>NaN</td>\n",
       "      <td>...</td>\n",
       "      <td>8295</td>\n",
       "      <td>False</td>\n",
       "      <td>False</td>\n",
       "      <td>False</td>\n",
       "      <td>False</td>\n",
       "      <td>en</td>\n",
       "      <td>NaN</td>\n",
       "      <td>NaN</td>\n",
       "      <td>NaN</td>\n",
       "      <td>NaN</td>\n",
       "    </tr>\n",
       "    <tr>\n",
       "      <th>322</th>\n",
       "      <td>Tue Feb 21 17:18:39 +0000 2017</td>\n",
       "      <td>834089966724603904</td>\n",
       "      <td>834089966724603904</td>\n",
       "      <td>DOGGO ON THE LOOSE I REPEAT DOGGO ON THE LOOSE...</td>\n",
       "      <td>False</td>\n",
       "      <td>[0, 52]</td>\n",
       "      <td>{'hashtags': [], 'symbols': [], 'user_mentions...</td>\n",
       "      <td>NaN</td>\n",
       "      <td>&lt;a href=\"http://twitter.com/download/iphone\" r...</td>\n",
       "      <td>NaN</td>\n",
       "      <td>...</td>\n",
       "      <td>10971</td>\n",
       "      <td>False</td>\n",
       "      <td>False</td>\n",
       "      <td>False</td>\n",
       "      <td>False</td>\n",
       "      <td>en</td>\n",
       "      <td>NaN</td>\n",
       "      <td>8.340867e+17</td>\n",
       "      <td>834086676934836224</td>\n",
       "      <td>{'created_at': 'Tue Feb 21 17:05:35 +0000 2017...</td>\n",
       "    </tr>\n",
       "    <tr>\n",
       "      <th>2342</th>\n",
       "      <td>Mon Nov 16 01:52:02 +0000 2015</td>\n",
       "      <td>666071193221509120</td>\n",
       "      <td>666071193221509120</td>\n",
       "      <td>Here we have a northern speckled Rhododendron....</td>\n",
       "      <td>False</td>\n",
       "      <td>[0, 137]</td>\n",
       "      <td>{'hashtags': [], 'symbols': [], 'user_mentions...</td>\n",
       "      <td>{'media': [{'id': 666071190449033216, 'id_str'...</td>\n",
       "      <td>&lt;a href=\"http://twitter.com/download/iphone\" r...</td>\n",
       "      <td>NaN</td>\n",
       "      <td>...</td>\n",
       "      <td>154</td>\n",
       "      <td>False</td>\n",
       "      <td>False</td>\n",
       "      <td>False</td>\n",
       "      <td>False</td>\n",
       "      <td>en</td>\n",
       "      <td>NaN</td>\n",
       "      <td>NaN</td>\n",
       "      <td>NaN</td>\n",
       "      <td>NaN</td>\n",
       "    </tr>\n",
       "    <tr>\n",
       "      <th>232</th>\n",
       "      <td>Fri Mar 31 16:07:33 +0000 2017</td>\n",
       "      <td>847842811428974592</td>\n",
       "      <td>847842811428974592</td>\n",
       "      <td>This is Rontu. He is described as a pal, cuddl...</td>\n",
       "      <td>False</td>\n",
       "      <td>[0, 138]</td>\n",
       "      <td>{'hashtags': [], 'symbols': [], 'user_mentions...</td>\n",
       "      <td>{'media': [{'id': 847842804353032196, 'id_str'...</td>\n",
       "      <td>&lt;a href=\"http://twitter.com/download/iphone\" r...</td>\n",
       "      <td>NaN</td>\n",
       "      <td>...</td>\n",
       "      <td>5935</td>\n",
       "      <td>False</td>\n",
       "      <td>False</td>\n",
       "      <td>False</td>\n",
       "      <td>False</td>\n",
       "      <td>en</td>\n",
       "      <td>NaN</td>\n",
       "      <td>NaN</td>\n",
       "      <td>NaN</td>\n",
       "      <td>NaN</td>\n",
       "    </tr>\n",
       "  </tbody>\n",
       "</table>\n",
       "<p>10 rows × 31 columns</p>\n",
       "</div>"
      ],
      "text/plain": [
       "                          created_at                  id              id_str  \\\n",
       "577   Mon Nov 21 17:23:47 +0000 2016  800751577355128832  800751577355128832   \n",
       "1135  Thu May 05 02:21:37 +0000 2016  728046963732717569  728046963732717569   \n",
       "382   Thu Feb 02 17:00:17 +0000 2017  827199976799354881  827199976799354881   \n",
       "1432  Wed Feb 10 04:06:43 +0000 2016  697270446429966336  697270446429966336   \n",
       "2266  Fri Nov 20 01:39:42 +0000 2015  667517642048163840  667517642048163840   \n",
       "1165  Sun Apr 17 00:58:53 +0000 2016  721503162398597120  721503162398597120   \n",
       "836   Sun Aug 21 23:15:55 +0000 2016  767500508068192258  767500508068192258   \n",
       "322   Tue Feb 21 17:18:39 +0000 2017  834089966724603904  834089966724603904   \n",
       "2342  Mon Nov 16 01:52:02 +0000 2015  666071193221509120  666071193221509120   \n",
       "232   Fri Mar 31 16:07:33 +0000 2017  847842811428974592  847842811428974592   \n",
       "\n",
       "                                              full_text  truncated  \\\n",
       "577   Say hello to Mauve and Murphy. They're rather ...      False   \n",
       "1135  This is Raymond. He controls fountains with hi...      False   \n",
       "382   This is Charlie. He wins every game of chess h...      False   \n",
       "1432  This is Bentley. He got stuck on his 3rd homew...      False   \n",
       "2266  This is Dook &amp; Milo. Dook is struggling to...      False   \n",
       "1165  This is Panda. He's happy af. 11/10 https://t....      False   \n",
       "836   This is Louie. He's making quite a h*ckin mess...      False   \n",
       "322   DOGGO ON THE LOOSE I REPEAT DOGGO ON THE LOOSE...      False   \n",
       "2342  Here we have a northern speckled Rhododendron....      False   \n",
       "232   This is Rontu. He is described as a pal, cuddl...      False   \n",
       "\n",
       "     display_text_range                                           entities  \\\n",
       "577             [0, 96]  {'hashtags': [], 'symbols': [], 'user_mentions...   \n",
       "1135            [0, 81]  {'hashtags': [], 'symbols': [], 'user_mentions...   \n",
       "382            [0, 129]  {'hashtags': [], 'symbols': [], 'user_mentions...   \n",
       "1432           [0, 138]  {'hashtags': [], 'symbols': [], 'user_mentions...   \n",
       "2266           [0, 143]  {'hashtags': [], 'symbols': [], 'user_mentions...   \n",
       "1165            [0, 35]  {'hashtags': [], 'symbols': [], 'user_mentions...   \n",
       "836             [0, 87]  {'hashtags': [], 'symbols': [], 'user_mentions...   \n",
       "322             [0, 52]  {'hashtags': [], 'symbols': [], 'user_mentions...   \n",
       "2342           [0, 137]  {'hashtags': [], 'symbols': [], 'user_mentions...   \n",
       "232            [0, 138]  {'hashtags': [], 'symbols': [], 'user_mentions...   \n",
       "\n",
       "                                      extended_entities  \\\n",
       "577   {'media': [{'id': 800751482706493448, 'id_str'...   \n",
       "1135  {'media': [{'id': 728046957697052672, 'id_str'...   \n",
       "382   {'media': [{'id': 827199955093843969, 'id_str'...   \n",
       "1432  {'media': [{'id': 697270435977818113, 'id_str'...   \n",
       "2266  {'media': [{'id': 667517641523761152, 'id_str'...   \n",
       "1165  {'media': [{'id': 721503152168681472, 'id_str'...   \n",
       "836   {'media': [{'id': 767500493799231488, 'id_str'...   \n",
       "322                                                 NaN   \n",
       "2342  {'media': [{'id': 666071190449033216, 'id_str'...   \n",
       "232   {'media': [{'id': 847842804353032196, 'id_str'...   \n",
       "\n",
       "                                                 source  \\\n",
       "577   <a href=\"http://twitter.com/download/iphone\" r...   \n",
       "1135  <a href=\"http://twitter.com/download/iphone\" r...   \n",
       "382   <a href=\"http://twitter.com/download/iphone\" r...   \n",
       "1432  <a href=\"http://twitter.com/download/iphone\" r...   \n",
       "2266  <a href=\"http://twitter.com\" rel=\"nofollow\">Tw...   \n",
       "1165  <a href=\"http://twitter.com/download/iphone\" r...   \n",
       "836   <a href=\"http://twitter.com/download/iphone\" r...   \n",
       "322   <a href=\"http://twitter.com/download/iphone\" r...   \n",
       "2342  <a href=\"http://twitter.com/download/iphone\" r...   \n",
       "232   <a href=\"http://twitter.com/download/iphone\" r...   \n",
       "\n",
       "      in_reply_to_status_id  ... favorite_count  favorited retweeted  \\\n",
       "577                     NaN  ...          11701      False     False   \n",
       "1135                    NaN  ...           4722      False     False   \n",
       "382                     NaN  ...          11659      False     False   \n",
       "1432                    NaN  ...           5131      False     False   \n",
       "2266                    NaN  ...            389      False     False   \n",
       "1165                    NaN  ...           5086      False     False   \n",
       "836                     NaN  ...           8295      False     False   \n",
       "322                     NaN  ...          10971      False     False   \n",
       "2342                    NaN  ...            154      False     False   \n",
       "232                     NaN  ...           5935      False     False   \n",
       "\n",
       "     possibly_sensitive possibly_sensitive_appealable lang retweeted_status  \\\n",
       "577               False                         False   en              NaN   \n",
       "1135              False                         False   en              NaN   \n",
       "382               False                         False   en              NaN   \n",
       "1432              False                         False   en              NaN   \n",
       "2266              False                         False   en              NaN   \n",
       "1165              False                         False   en              NaN   \n",
       "836               False                         False   en              NaN   \n",
       "322               False                         False   en              NaN   \n",
       "2342              False                         False   en              NaN   \n",
       "232               False                         False   en              NaN   \n",
       "\n",
       "     quoted_status_id quoted_status_id_str  \\\n",
       "577               NaN                  NaN   \n",
       "1135              NaN                  NaN   \n",
       "382               NaN                  NaN   \n",
       "1432              NaN                  NaN   \n",
       "2266              NaN                  NaN   \n",
       "1165              NaN                  NaN   \n",
       "836               NaN                  NaN   \n",
       "322      8.340867e+17   834086676934836224   \n",
       "2342              NaN                  NaN   \n",
       "232               NaN                  NaN   \n",
       "\n",
       "                                          quoted_status  \n",
       "577                                                 NaN  \n",
       "1135                                                NaN  \n",
       "382                                                 NaN  \n",
       "1432                                                NaN  \n",
       "2266                                                NaN  \n",
       "1165                                                NaN  \n",
       "836                                                 NaN  \n",
       "322   {'created_at': 'Tue Feb 21 17:05:35 +0000 2017...  \n",
       "2342                                                NaN  \n",
       "232                                                 NaN  \n",
       "\n",
       "[10 rows x 31 columns]"
      ]
     },
     "execution_count": 17,
     "metadata": {},
     "output_type": "execute_result"
    }
   ],
   "source": [
    "tweet_data.sample(10)"
   ]
  },
  {
   "cell_type": "markdown",
   "id": "cad4598d",
   "metadata": {},
   "source": [
    "**Define**\n",
    "\n",
    "> Check for all the records that are not dogs and drop them"
   ]
  },
  {
   "cell_type": "markdown",
   "id": "1ab8b93c",
   "metadata": {},
   "source": [
    "**Code**"
   ]
  },
  {
   "cell_type": "code",
   "execution_count": 18,
   "id": "fb415b75",
   "metadata": {},
   "outputs": [
    {
     "data": {
      "text/plain": [
       "543"
      ]
     },
     "execution_count": 18,
     "metadata": {},
     "output_type": "execute_result"
    }
   ],
   "source": [
    "non_dogs = image_predictions[image_predictions['p1_dog']== False].index\n",
    "non_dogs.value_counts().sum()"
   ]
  },
  {
   "cell_type": "code",
   "execution_count": 19,
   "id": "701e75ca",
   "metadata": {},
   "outputs": [
    {
     "data": {
      "text/plain": [
       "2075"
      ]
     },
     "execution_count": 19,
     "metadata": {},
     "output_type": "execute_result"
    }
   ],
   "source": [
    "image_predictions.value_counts().sum()"
   ]
  },
  {
   "cell_type": "code",
   "execution_count": 20,
   "id": "bac2fe9e",
   "metadata": {},
   "outputs": [],
   "source": [
    "image_predictions.drop(non_dogs, inplace = True)"
   ]
  },
  {
   "cell_type": "markdown",
   "id": "1e3d5b94",
   "metadata": {},
   "source": [
    "**Test**"
   ]
  },
  {
   "cell_type": "code",
   "execution_count": 21,
   "id": "baf54a60",
   "metadata": {},
   "outputs": [
    {
     "data": {
      "text/html": [
       "<div>\n",
       "<style scoped>\n",
       "    .dataframe tbody tr th:only-of-type {\n",
       "        vertical-align: middle;\n",
       "    }\n",
       "\n",
       "    .dataframe tbody tr th {\n",
       "        vertical-align: top;\n",
       "    }\n",
       "\n",
       "    .dataframe thead th {\n",
       "        text-align: right;\n",
       "    }\n",
       "</style>\n",
       "<table border=\"1\" class=\"dataframe\">\n",
       "  <thead>\n",
       "    <tr style=\"text-align: right;\">\n",
       "      <th></th>\n",
       "      <th>tweet_id</th>\n",
       "      <th>jpg_url</th>\n",
       "      <th>img_num</th>\n",
       "      <th>p1</th>\n",
       "      <th>p1_conf</th>\n",
       "      <th>p1_dog</th>\n",
       "      <th>p2</th>\n",
       "      <th>p2_conf</th>\n",
       "      <th>p2_dog</th>\n",
       "      <th>p3</th>\n",
       "      <th>p3_conf</th>\n",
       "      <th>p3_dog</th>\n",
       "    </tr>\n",
       "  </thead>\n",
       "  <tbody>\n",
       "  </tbody>\n",
       "</table>\n",
       "</div>"
      ],
      "text/plain": [
       "Empty DataFrame\n",
       "Columns: [tweet_id, jpg_url, img_num, p1, p1_conf, p1_dog, p2, p2_conf, p2_dog, p3, p3_conf, p3_dog]\n",
       "Index: []"
      ]
     },
     "execution_count": 21,
     "metadata": {},
     "output_type": "execute_result"
    }
   ],
   "source": [
    "image_predictions[image_predictions['p1_dog'] == False]"
   ]
  },
  {
   "cell_type": "markdown",
   "id": "27d89cd2",
   "metadata": {},
   "source": [
    "**Define**\n",
    "\n",
    "> - **Check whether number of tweets in twitter_archive == number of tweets that have images in image_predictions**\n",
    "\n",
    "> As shown that there are some tweets in twitter_archive that has no images in image_predictions. I believe theses without images tweets will not be useful in further analysis. As rating of dogs in each tweet mainly depends on image."
   ]
  },
  {
   "cell_type": "markdown",
   "id": "27ea868a",
   "metadata": {},
   "source": [
    "**Code**"
   ]
  },
  {
   "cell_type": "code",
   "execution_count": 22,
   "id": "75020ca5",
   "metadata": {},
   "outputs": [
    {
     "data": {
      "text/plain": [
       "False"
      ]
     },
     "execution_count": 22,
     "metadata": {},
     "output_type": "execute_result"
    }
   ],
   "source": [
    "twitter_archive_clean['tweet_id'].size == twitter_archive_clean.isin(image_predictions['tweet_id']).sum()['tweet_id']"
   ]
  },
  {
   "cell_type": "markdown",
   "id": "44962468",
   "metadata": {},
   "source": [
    "> - Filter twitter_archive to only have tweets having images in image_predictions dataframe"
   ]
  },
  {
   "cell_type": "code",
   "execution_count": 23,
   "id": "b20634b8",
   "metadata": {},
   "outputs": [
    {
     "data": {
      "text/plain": [
       "(1532, 17)"
      ]
     },
     "execution_count": 23,
     "metadata": {},
     "output_type": "execute_result"
    }
   ],
   "source": [
    "twitter_archive_clean = twitter_archive_clean[twitter_archive_clean['tweet_id'].isin(image_predictions['tweet_id'].unique())]\n",
    "twitter_archive_clean.shape"
   ]
  },
  {
   "cell_type": "markdown",
   "id": "e0c18e5a",
   "metadata": {},
   "source": [
    "**Test**\n",
    "> - Double check that all tweets in twitter_archive have images in image_predictions"
   ]
  },
  {
   "cell_type": "code",
   "execution_count": 24,
   "id": "792cea25",
   "metadata": {},
   "outputs": [
    {
     "data": {
      "text/plain": [
       "True"
      ]
     },
     "execution_count": 24,
     "metadata": {},
     "output_type": "execute_result"
    }
   ],
   "source": [
    "twitter_archive_clean['tweet_id'].size == twitter_archive_clean['tweet_id'].isin(image_predictions['tweet_id']).size"
   ]
  },
  {
   "cell_type": "markdown",
   "id": "1ddcecf7",
   "metadata": {},
   "source": [
    "**Define**\n",
    "> - Filter twitter_archive to only have original tweets and remove all retweets"
   ]
  },
  {
   "cell_type": "markdown",
   "id": "ac256fc1",
   "metadata": {},
   "source": [
    "**Code**"
   ]
  },
  {
   "cell_type": "code",
   "execution_count": 25,
   "id": "f853ba1d",
   "metadata": {},
   "outputs": [],
   "source": [
    "twitter_archive_clean = twitter_archive_clean[twitter_archive_clean['retweeted_status_id'].isnull()]"
   ]
  },
  {
   "cell_type": "markdown",
   "id": "baa865d5",
   "metadata": {},
   "source": [
    "**Test**\n",
    "> - Test that all tweets in twitter_archive never have retweet_id; that means they are original tweets. Note that retweet_id include only unique value \"NAN\"\n"
   ]
  },
  {
   "cell_type": "code",
   "execution_count": 26,
   "id": "f4ccc972",
   "metadata": {},
   "outputs": [
    {
     "data": {
      "text/plain": [
       "array([nan])"
      ]
     },
     "execution_count": 26,
     "metadata": {},
     "output_type": "execute_result"
    }
   ],
   "source": [
    "twitter_archive_clean['retweeted_status_id'].unique()"
   ]
  },
  {
   "cell_type": "markdown",
   "id": "dc9f1c91",
   "metadata": {},
   "source": [
    "> -- **Show out columns' names for twitter archive**"
   ]
  },
  {
   "cell_type": "code",
   "execution_count": 27,
   "id": "c553968d",
   "metadata": {},
   "outputs": [
    {
     "data": {
      "text/plain": [
       "Index(['tweet_id', 'in_reply_to_status_id', 'in_reply_to_user_id', 'timestamp',\n",
       "       'source', 'text', 'retweeted_status_id', 'retweeted_status_user_id',\n",
       "       'retweeted_status_timestamp', 'expanded_urls', 'rating_numerator',\n",
       "       'rating_denominator', 'name', 'doggo', 'floofer', 'pupper', 'puppo'],\n",
       "      dtype='object')"
      ]
     },
     "execution_count": 27,
     "metadata": {},
     "output_type": "execute_result"
    }
   ],
   "source": [
    "twitter_archive_clean.columns"
   ]
  },
  {
   "cell_type": "markdown",
   "id": "37723668",
   "metadata": {},
   "source": [
    "**Define**\n",
    "> - Remove unnecessary columns that will not be used in further analysis such as : [in-reply-to-status-id , retweet_id]"
   ]
  },
  {
   "cell_type": "markdown",
   "id": "d9dccbd5",
   "metadata": {},
   "source": [
    "**Code**"
   ]
  },
  {
   "cell_type": "code",
   "execution_count": 28,
   "id": "816599a6",
   "metadata": {},
   "outputs": [],
   "source": [
    "drop_list=['in_reply_to_status_id' , 'in_reply_to_user_id' , 'source' , 'retweeted_status_id',\n",
    "             'retweeted_status_user_id','retweeted_status_timestamp' ,'expanded_urls','name' ]\n",
    "\n",
    "twitter_archive_clean.drop(drop_list, inplace =True , axis=1)"
   ]
  },
  {
   "cell_type": "markdown",
   "id": "8485c9e4",
   "metadata": {},
   "source": [
    "**Test**\n",
    "> - Test that all the unnecessary columns have been removed. Note that the number of columns became 10 instead of 17 (7 unnecessary columns have been removed)"
   ]
  },
  {
   "cell_type": "code",
   "execution_count": 29,
   "id": "ec554ed2",
   "metadata": {},
   "outputs": [
    {
     "data": {
      "text/plain": [
       "(1477, 9)"
      ]
     },
     "execution_count": 29,
     "metadata": {},
     "output_type": "execute_result"
    }
   ],
   "source": [
    "twitter_archive_clean.shape"
   ]
  },
  {
   "cell_type": "code",
   "execution_count": 30,
   "id": "9d5e59ec",
   "metadata": {},
   "outputs": [
    {
     "name": "stdout",
     "output_type": "stream",
     "text": [
      "<class 'pandas.core.frame.DataFrame'>\n",
      "Int64Index: 1477 entries, 1 to 2355\n",
      "Data columns (total 9 columns):\n",
      " #   Column              Non-Null Count  Dtype \n",
      "---  ------              --------------  ----- \n",
      " 0   tweet_id            1477 non-null   int64 \n",
      " 1   timestamp           1477 non-null   object\n",
      " 2   text                1477 non-null   object\n",
      " 3   rating_numerator    1477 non-null   int64 \n",
      " 4   rating_denominator  1477 non-null   int64 \n",
      " 5   doggo               1477 non-null   object\n",
      " 6   floofer             1477 non-null   object\n",
      " 7   pupper              1477 non-null   object\n",
      " 8   puppo               1477 non-null   object\n",
      "dtypes: int64(3), object(6)\n",
      "memory usage: 115.4+ KB\n"
     ]
    }
   ],
   "source": [
    "twitter_archive_clean.info()"
   ]
  },
  {
   "cell_type": "code",
   "execution_count": 31,
   "id": "77a7370a",
   "metadata": {},
   "outputs": [
    {
     "data": {
      "text/html": [
       "<div>\n",
       "<style scoped>\n",
       "    .dataframe tbody tr th:only-of-type {\n",
       "        vertical-align: middle;\n",
       "    }\n",
       "\n",
       "    .dataframe tbody tr th {\n",
       "        vertical-align: top;\n",
       "    }\n",
       "\n",
       "    .dataframe thead th {\n",
       "        text-align: right;\n",
       "    }\n",
       "</style>\n",
       "<table border=\"1\" class=\"dataframe\">\n",
       "  <thead>\n",
       "    <tr style=\"text-align: right;\">\n",
       "      <th></th>\n",
       "      <th>tweet_id</th>\n",
       "      <th>timestamp</th>\n",
       "      <th>text</th>\n",
       "      <th>rating_numerator</th>\n",
       "      <th>rating_denominator</th>\n",
       "      <th>doggo</th>\n",
       "      <th>floofer</th>\n",
       "      <th>pupper</th>\n",
       "      <th>puppo</th>\n",
       "    </tr>\n",
       "  </thead>\n",
       "  <tbody>\n",
       "    <tr>\n",
       "      <th>1</th>\n",
       "      <td>892177421306343426</td>\n",
       "      <td>2017-08-01 00:17:27 +0000</td>\n",
       "      <td>This is Tilly. She's just checking pup on you....</td>\n",
       "      <td>13</td>\n",
       "      <td>10</td>\n",
       "      <td>None</td>\n",
       "      <td>None</td>\n",
       "      <td>None</td>\n",
       "      <td>None</td>\n",
       "    </tr>\n",
       "    <tr>\n",
       "      <th>2</th>\n",
       "      <td>891815181378084864</td>\n",
       "      <td>2017-07-31 00:18:03 +0000</td>\n",
       "      <td>This is Archie. He is a rare Norwegian Pouncin...</td>\n",
       "      <td>12</td>\n",
       "      <td>10</td>\n",
       "      <td>None</td>\n",
       "      <td>None</td>\n",
       "      <td>None</td>\n",
       "      <td>None</td>\n",
       "    </tr>\n",
       "    <tr>\n",
       "      <th>4</th>\n",
       "      <td>891327558926688256</td>\n",
       "      <td>2017-07-29 16:00:24 +0000</td>\n",
       "      <td>This is Franklin. He would like you to stop ca...</td>\n",
       "      <td>12</td>\n",
       "      <td>10</td>\n",
       "      <td>None</td>\n",
       "      <td>None</td>\n",
       "      <td>None</td>\n",
       "      <td>None</td>\n",
       "    </tr>\n",
       "    <tr>\n",
       "      <th>5</th>\n",
       "      <td>891087950875897856</td>\n",
       "      <td>2017-07-29 00:08:17 +0000</td>\n",
       "      <td>Here we have a majestic great white breaching ...</td>\n",
       "      <td>13</td>\n",
       "      <td>10</td>\n",
       "      <td>None</td>\n",
       "      <td>None</td>\n",
       "      <td>None</td>\n",
       "      <td>None</td>\n",
       "    </tr>\n",
       "    <tr>\n",
       "      <th>6</th>\n",
       "      <td>890971913173991426</td>\n",
       "      <td>2017-07-28 16:27:12 +0000</td>\n",
       "      <td>Meet Jax. He enjoys ice cream so much he gets ...</td>\n",
       "      <td>13</td>\n",
       "      <td>10</td>\n",
       "      <td>None</td>\n",
       "      <td>None</td>\n",
       "      <td>None</td>\n",
       "      <td>None</td>\n",
       "    </tr>\n",
       "  </tbody>\n",
       "</table>\n",
       "</div>"
      ],
      "text/plain": [
       "             tweet_id                  timestamp  \\\n",
       "1  892177421306343426  2017-08-01 00:17:27 +0000   \n",
       "2  891815181378084864  2017-07-31 00:18:03 +0000   \n",
       "4  891327558926688256  2017-07-29 16:00:24 +0000   \n",
       "5  891087950875897856  2017-07-29 00:08:17 +0000   \n",
       "6  890971913173991426  2017-07-28 16:27:12 +0000   \n",
       "\n",
       "                                                text  rating_numerator  \\\n",
       "1  This is Tilly. She's just checking pup on you....                13   \n",
       "2  This is Archie. He is a rare Norwegian Pouncin...                12   \n",
       "4  This is Franklin. He would like you to stop ca...                12   \n",
       "5  Here we have a majestic great white breaching ...                13   \n",
       "6  Meet Jax. He enjoys ice cream so much he gets ...                13   \n",
       "\n",
       "   rating_denominator doggo floofer pupper puppo  \n",
       "1                  10  None    None   None  None  \n",
       "2                  10  None    None   None  None  \n",
       "4                  10  None    None   None  None  \n",
       "5                  10  None    None   None  None  \n",
       "6                  10  None    None   None  None  "
      ]
     },
     "execution_count": 31,
     "metadata": {},
     "output_type": "execute_result"
    }
   ],
   "source": [
    "twitter_archive_clean.head()"
   ]
  },
  {
   "cell_type": "markdown",
   "id": "07908871",
   "metadata": {},
   "source": [
    "> -**Check unique values for stage columns. As shown \"None\" in case it is not belong to this stage and \"doggo\" in case it belongs to thsi doggo stage**\n",
    "\n",
    "**Define**\n",
    "\n",
    "> **Replace \"None\" values in dog stage `doggo`, `floofer`, `pupper`, `puppo`]  columns by blank text''**"
   ]
  },
  {
   "cell_type": "code",
   "execution_count": 34,
   "id": "3a4e4b0b",
   "metadata": {},
   "outputs": [
    {
     "data": {
      "text/plain": [
       "array(['None', 'doggo'], dtype=object)"
      ]
     },
     "execution_count": 34,
     "metadata": {},
     "output_type": "execute_result"
    }
   ],
   "source": [
    "twitter_archive['doggo'].unique()"
   ]
  },
  {
   "cell_type": "markdown",
   "id": "0006f7fa",
   "metadata": {},
   "source": [
    "**Code**"
   ]
  },
  {
   "cell_type": "code",
   "execution_count": 35,
   "id": "d1dd74ff",
   "metadata": {},
   "outputs": [],
   "source": [
    "twitter_archive_clean[['doggo', 'floofer', 'pupper', 'puppo']]=twitter_archive_clean[['doggo', 'floofer', 'pupper', 'puppo']].replace('None' , '')"
   ]
  },
  {
   "cell_type": "markdown",
   "id": "57272a20",
   "metadata": {},
   "source": [
    "**Test**"
   ]
  },
  {
   "cell_type": "code",
   "execution_count": 36,
   "id": "9b036335",
   "metadata": {},
   "outputs": [
    {
     "data": {
      "text/plain": [
       "array(['', 'doggo'], dtype=object)"
      ]
     },
     "execution_count": 36,
     "metadata": {},
     "output_type": "execute_result"
    }
   ],
   "source": [
    "twitter_archive_clean['doggo'].unique()"
   ]
  },
  {
   "cell_type": "markdown",
   "id": "aa2672e9",
   "metadata": {},
   "source": [
    "> - **Note that \"None\" has been replaced with \"Nan\""
   ]
  },
  {
   "cell_type": "code",
   "execution_count": 37,
   "id": "80c2a89b",
   "metadata": {},
   "outputs": [
    {
     "data": {
      "text/html": [
       "<div>\n",
       "<style scoped>\n",
       "    .dataframe tbody tr th:only-of-type {\n",
       "        vertical-align: middle;\n",
       "    }\n",
       "\n",
       "    .dataframe tbody tr th {\n",
       "        vertical-align: top;\n",
       "    }\n",
       "\n",
       "    .dataframe thead th {\n",
       "        text-align: right;\n",
       "    }\n",
       "</style>\n",
       "<table border=\"1\" class=\"dataframe\">\n",
       "  <thead>\n",
       "    <tr style=\"text-align: right;\">\n",
       "      <th></th>\n",
       "      <th>tweet_id</th>\n",
       "      <th>timestamp</th>\n",
       "      <th>text</th>\n",
       "      <th>rating_numerator</th>\n",
       "      <th>rating_denominator</th>\n",
       "      <th>doggo</th>\n",
       "      <th>floofer</th>\n",
       "      <th>pupper</th>\n",
       "      <th>puppo</th>\n",
       "    </tr>\n",
       "  </thead>\n",
       "  <tbody>\n",
       "    <tr>\n",
       "      <th>1</th>\n",
       "      <td>892177421306343426</td>\n",
       "      <td>2017-08-01 00:17:27 +0000</td>\n",
       "      <td>This is Tilly. She's just checking pup on you....</td>\n",
       "      <td>13</td>\n",
       "      <td>10</td>\n",
       "      <td></td>\n",
       "      <td></td>\n",
       "      <td></td>\n",
       "      <td></td>\n",
       "    </tr>\n",
       "    <tr>\n",
       "      <th>2</th>\n",
       "      <td>891815181378084864</td>\n",
       "      <td>2017-07-31 00:18:03 +0000</td>\n",
       "      <td>This is Archie. He is a rare Norwegian Pouncin...</td>\n",
       "      <td>12</td>\n",
       "      <td>10</td>\n",
       "      <td></td>\n",
       "      <td></td>\n",
       "      <td></td>\n",
       "      <td></td>\n",
       "    </tr>\n",
       "    <tr>\n",
       "      <th>4</th>\n",
       "      <td>891327558926688256</td>\n",
       "      <td>2017-07-29 16:00:24 +0000</td>\n",
       "      <td>This is Franklin. He would like you to stop ca...</td>\n",
       "      <td>12</td>\n",
       "      <td>10</td>\n",
       "      <td></td>\n",
       "      <td></td>\n",
       "      <td></td>\n",
       "      <td></td>\n",
       "    </tr>\n",
       "    <tr>\n",
       "      <th>5</th>\n",
       "      <td>891087950875897856</td>\n",
       "      <td>2017-07-29 00:08:17 +0000</td>\n",
       "      <td>Here we have a majestic great white breaching ...</td>\n",
       "      <td>13</td>\n",
       "      <td>10</td>\n",
       "      <td></td>\n",
       "      <td></td>\n",
       "      <td></td>\n",
       "      <td></td>\n",
       "    </tr>\n",
       "    <tr>\n",
       "      <th>6</th>\n",
       "      <td>890971913173991426</td>\n",
       "      <td>2017-07-28 16:27:12 +0000</td>\n",
       "      <td>Meet Jax. He enjoys ice cream so much he gets ...</td>\n",
       "      <td>13</td>\n",
       "      <td>10</td>\n",
       "      <td></td>\n",
       "      <td></td>\n",
       "      <td></td>\n",
       "      <td></td>\n",
       "    </tr>\n",
       "  </tbody>\n",
       "</table>\n",
       "</div>"
      ],
      "text/plain": [
       "             tweet_id                  timestamp  \\\n",
       "1  892177421306343426  2017-08-01 00:17:27 +0000   \n",
       "2  891815181378084864  2017-07-31 00:18:03 +0000   \n",
       "4  891327558926688256  2017-07-29 16:00:24 +0000   \n",
       "5  891087950875897856  2017-07-29 00:08:17 +0000   \n",
       "6  890971913173991426  2017-07-28 16:27:12 +0000   \n",
       "\n",
       "                                                text  rating_numerator  \\\n",
       "1  This is Tilly. She's just checking pup on you....                13   \n",
       "2  This is Archie. He is a rare Norwegian Pouncin...                12   \n",
       "4  This is Franklin. He would like you to stop ca...                12   \n",
       "5  Here we have a majestic great white breaching ...                13   \n",
       "6  Meet Jax. He enjoys ice cream so much he gets ...                13   \n",
       "\n",
       "   rating_denominator doggo floofer pupper puppo  \n",
       "1                  10                             \n",
       "2                  10                             \n",
       "4                  10                             \n",
       "5                  10                             \n",
       "6                  10                             "
      ]
     },
     "execution_count": 37,
     "metadata": {},
     "output_type": "execute_result"
    }
   ],
   "source": [
    "twitter_archive_clean.head()"
   ]
  },
  {
   "cell_type": "markdown",
   "id": "77d09c02",
   "metadata": {},
   "source": [
    "> - Dog stage columns `doggo`, `floofer`, `pupper`, `puppo` in `twitter_archive_clean` should be merged in \n",
    "\n",
    "> - One column called `Stage` ---> one variable should be represented in one column to be **tidy**"
   ]
  },
  {
   "cell_type": "code",
   "execution_count": 38,
   "id": "db266026",
   "metadata": {},
   "outputs": [],
   "source": [
    "twitter_archive_clean['stage'] = twitter_archive_clean['doggo'] +twitter_archive_clean['floofer'] + twitter_archive_clean['pupper'] + twitter_archive_clean['puppo']"
   ]
  },
  {
   "cell_type": "code",
   "execution_count": 39,
   "id": "7fb6cdc7",
   "metadata": {},
   "outputs": [
    {
     "data": {
      "text/plain": [
       "array(['', 'doggo', 'puppo', 'pupper', 'floofer', 'doggopuppo',\n",
       "       'doggofloofer', 'doggopupper'], dtype=object)"
      ]
     },
     "execution_count": 39,
     "metadata": {},
     "output_type": "execute_result"
    }
   ],
   "source": [
    "twitter_archive_clean['stage'].unique()"
   ]
  },
  {
   "cell_type": "markdown",
   "id": "7d902e8f",
   "metadata": {},
   "source": [
    "**Define**\n",
    "> - **Replace blank text value in stage column by np.nan**"
   ]
  },
  {
   "cell_type": "markdown",
   "id": "8952b612",
   "metadata": {},
   "source": [
    "**Code**"
   ]
  },
  {
   "cell_type": "code",
   "execution_count": 40,
   "id": "38ade9ae",
   "metadata": {},
   "outputs": [],
   "source": [
    "twitter_archive_clean['stage'] = twitter_archive_clean['stage'].replace('', np.NaN)"
   ]
  },
  {
   "cell_type": "code",
   "execution_count": 41,
   "id": "c46418cd",
   "metadata": {},
   "outputs": [
    {
     "data": {
      "text/html": [
       "<div>\n",
       "<style scoped>\n",
       "    .dataframe tbody tr th:only-of-type {\n",
       "        vertical-align: middle;\n",
       "    }\n",
       "\n",
       "    .dataframe tbody tr th {\n",
       "        vertical-align: top;\n",
       "    }\n",
       "\n",
       "    .dataframe thead th {\n",
       "        text-align: right;\n",
       "    }\n",
       "</style>\n",
       "<table border=\"1\" class=\"dataframe\">\n",
       "  <thead>\n",
       "    <tr style=\"text-align: right;\">\n",
       "      <th></th>\n",
       "      <th>tweet_id</th>\n",
       "      <th>timestamp</th>\n",
       "      <th>text</th>\n",
       "      <th>rating_numerator</th>\n",
       "      <th>rating_denominator</th>\n",
       "      <th>doggo</th>\n",
       "      <th>floofer</th>\n",
       "      <th>pupper</th>\n",
       "      <th>puppo</th>\n",
       "      <th>stage</th>\n",
       "    </tr>\n",
       "  </thead>\n",
       "  <tbody>\n",
       "    <tr>\n",
       "      <th>730</th>\n",
       "      <td>781661882474196992</td>\n",
       "      <td>2016-09-30 01:08:10 +0000</td>\n",
       "      <td>Who keeps sending in pictures without dogs in ...</td>\n",
       "      <td>5</td>\n",
       "      <td>10</td>\n",
       "      <td></td>\n",
       "      <td></td>\n",
       "      <td></td>\n",
       "      <td></td>\n",
       "      <td>NaN</td>\n",
       "    </tr>\n",
       "    <tr>\n",
       "      <th>2053</th>\n",
       "      <td>671485057807351808</td>\n",
       "      <td>2015-12-01 00:24:48 +0000</td>\n",
       "      <td>Meet Penelope. She is a white Macadamias Duode...</td>\n",
       "      <td>11</td>\n",
       "      <td>10</td>\n",
       "      <td></td>\n",
       "      <td></td>\n",
       "      <td></td>\n",
       "      <td></td>\n",
       "      <td>NaN</td>\n",
       "    </tr>\n",
       "    <tr>\n",
       "      <th>1309</th>\n",
       "      <td>707059547140169728</td>\n",
       "      <td>2016-03-08 04:25:07 +0000</td>\n",
       "      <td>Say hello to Cupcake. She's an Icelandic Dippe...</td>\n",
       "      <td>11</td>\n",
       "      <td>10</td>\n",
       "      <td></td>\n",
       "      <td></td>\n",
       "      <td></td>\n",
       "      <td></td>\n",
       "      <td>NaN</td>\n",
       "    </tr>\n",
       "    <tr>\n",
       "      <th>1122</th>\n",
       "      <td>730573383004487680</td>\n",
       "      <td>2016-05-12 01:40:42 +0000</td>\n",
       "      <td>This is Rooney. He can't comprehend glass. 10/...</td>\n",
       "      <td>10</td>\n",
       "      <td>10</td>\n",
       "      <td></td>\n",
       "      <td></td>\n",
       "      <td>pupper</td>\n",
       "      <td></td>\n",
       "      <td>pupper</td>\n",
       "    </tr>\n",
       "    <tr>\n",
       "      <th>1780</th>\n",
       "      <td>677700003327029250</td>\n",
       "      <td>2015-12-18 04:00:46 +0000</td>\n",
       "      <td>This is Ralph. He's an interpretive dancer. 10...</td>\n",
       "      <td>10</td>\n",
       "      <td>10</td>\n",
       "      <td></td>\n",
       "      <td></td>\n",
       "      <td></td>\n",
       "      <td></td>\n",
       "      <td>NaN</td>\n",
       "    </tr>\n",
       "  </tbody>\n",
       "</table>\n",
       "</div>"
      ],
      "text/plain": [
       "                tweet_id                  timestamp  \\\n",
       "730   781661882474196992  2016-09-30 01:08:10 +0000   \n",
       "2053  671485057807351808  2015-12-01 00:24:48 +0000   \n",
       "1309  707059547140169728  2016-03-08 04:25:07 +0000   \n",
       "1122  730573383004487680  2016-05-12 01:40:42 +0000   \n",
       "1780  677700003327029250  2015-12-18 04:00:46 +0000   \n",
       "\n",
       "                                                   text  rating_numerator  \\\n",
       "730   Who keeps sending in pictures without dogs in ...                 5   \n",
       "2053  Meet Penelope. She is a white Macadamias Duode...                11   \n",
       "1309  Say hello to Cupcake. She's an Icelandic Dippe...                11   \n",
       "1122  This is Rooney. He can't comprehend glass. 10/...                10   \n",
       "1780  This is Ralph. He's an interpretive dancer. 10...                10   \n",
       "\n",
       "      rating_denominator doggo floofer  pupper puppo   stage  \n",
       "730                   10                                 NaN  \n",
       "2053                  10                                 NaN  \n",
       "1309                  10                                 NaN  \n",
       "1122                  10                pupper        pupper  \n",
       "1780                  10                                 NaN  "
      ]
     },
     "execution_count": 41,
     "metadata": {},
     "output_type": "execute_result"
    }
   ],
   "source": [
    "twitter_archive_clean.sample(5)"
   ]
  },
  {
   "cell_type": "markdown",
   "id": "baaa3065",
   "metadata": {},
   "source": [
    "**Test**"
   ]
  },
  {
   "cell_type": "markdown",
   "id": "08b1fc4d",
   "metadata": {},
   "source": [
    "> - **Test that there is no blank text in stage column and all have been replaced by np.nan. Note there are no records with blank text**"
   ]
  },
  {
   "cell_type": "code",
   "execution_count": 42,
   "id": "32e1fbf1",
   "metadata": {},
   "outputs": [
    {
     "data": {
      "text/html": [
       "<div>\n",
       "<style scoped>\n",
       "    .dataframe tbody tr th:only-of-type {\n",
       "        vertical-align: middle;\n",
       "    }\n",
       "\n",
       "    .dataframe tbody tr th {\n",
       "        vertical-align: top;\n",
       "    }\n",
       "\n",
       "    .dataframe thead th {\n",
       "        text-align: right;\n",
       "    }\n",
       "</style>\n",
       "<table border=\"1\" class=\"dataframe\">\n",
       "  <thead>\n",
       "    <tr style=\"text-align: right;\">\n",
       "      <th></th>\n",
       "      <th>tweet_id</th>\n",
       "      <th>timestamp</th>\n",
       "      <th>text</th>\n",
       "      <th>rating_numerator</th>\n",
       "      <th>rating_denominator</th>\n",
       "      <th>doggo</th>\n",
       "      <th>floofer</th>\n",
       "      <th>pupper</th>\n",
       "      <th>puppo</th>\n",
       "      <th>stage</th>\n",
       "    </tr>\n",
       "  </thead>\n",
       "  <tbody>\n",
       "  </tbody>\n",
       "</table>\n",
       "</div>"
      ],
      "text/plain": [
       "Empty DataFrame\n",
       "Columns: [tweet_id, timestamp, text, rating_numerator, rating_denominator, doggo, floofer, pupper, puppo, stage]\n",
       "Index: []"
      ]
     },
     "execution_count": 42,
     "metadata": {},
     "output_type": "execute_result"
    }
   ],
   "source": [
    "twitter_archive_clean[twitter_archive_clean['stage']== '']"
   ]
  },
  {
   "cell_type": "markdown",
   "id": "3d1802e4",
   "metadata": {},
   "source": [
    "**Define**\n",
    "> - **Drop ['doggo', 'puppo', 'pupper', 'floofer'] columns as they are not useful in further analysis**\n"
   ]
  },
  {
   "cell_type": "markdown",
   "id": "fbc167c9",
   "metadata": {},
   "source": [
    "**Code**"
   ]
  },
  {
   "cell_type": "code",
   "execution_count": 43,
   "id": "19816312",
   "metadata": {},
   "outputs": [],
   "source": [
    "to_drop_list = ['doggo', 'puppo', 'pupper', 'floofer']\n"
   ]
  },
  {
   "cell_type": "markdown",
   "id": "6ed93f00",
   "metadata": {},
   "source": [
    "**Test**"
   ]
  },
  {
   "cell_type": "code",
   "execution_count": 44,
   "id": "6d318cbb",
   "metadata": {},
   "outputs": [
    {
     "data": {
      "text/html": [
       "<div>\n",
       "<style scoped>\n",
       "    .dataframe tbody tr th:only-of-type {\n",
       "        vertical-align: middle;\n",
       "    }\n",
       "\n",
       "    .dataframe tbody tr th {\n",
       "        vertical-align: top;\n",
       "    }\n",
       "\n",
       "    .dataframe thead th {\n",
       "        text-align: right;\n",
       "    }\n",
       "</style>\n",
       "<table border=\"1\" class=\"dataframe\">\n",
       "  <thead>\n",
       "    <tr style=\"text-align: right;\">\n",
       "      <th></th>\n",
       "      <th>tweet_id</th>\n",
       "      <th>timestamp</th>\n",
       "      <th>text</th>\n",
       "      <th>rating_numerator</th>\n",
       "      <th>rating_denominator</th>\n",
       "      <th>stage</th>\n",
       "    </tr>\n",
       "  </thead>\n",
       "  <tbody>\n",
       "    <tr>\n",
       "      <th>1679</th>\n",
       "      <td>682032003584274432</td>\n",
       "      <td>2015-12-30 02:54:35 +0000</td>\n",
       "      <td>This is Ulysses. He likes holding hands and hi...</td>\n",
       "      <td>11</td>\n",
       "      <td>10</td>\n",
       "      <td>NaN</td>\n",
       "    </tr>\n",
       "    <tr>\n",
       "      <th>610</th>\n",
       "      <td>797236660651966464</td>\n",
       "      <td>2016-11-12 00:36:46 +0000</td>\n",
       "      <td>This is Pancake. She loves Batman and winks li...</td>\n",
       "      <td>12</td>\n",
       "      <td>10</td>\n",
       "      <td>NaN</td>\n",
       "    </tr>\n",
       "    <tr>\n",
       "      <th>362</th>\n",
       "      <td>829449946868879360</td>\n",
       "      <td>2017-02-08 22:00:52 +0000</td>\n",
       "      <td>Here's a stressed doggo. Had a long day. Many ...</td>\n",
       "      <td>11</td>\n",
       "      <td>10</td>\n",
       "      <td>doggo</td>\n",
       "    </tr>\n",
       "    <tr>\n",
       "      <th>1623</th>\n",
       "      <td>684902183876321280</td>\n",
       "      <td>2016-01-07 00:59:40 +0000</td>\n",
       "      <td>This is Perry. He's an Augustus Gloopster. Ver...</td>\n",
       "      <td>11</td>\n",
       "      <td>10</td>\n",
       "      <td>NaN</td>\n",
       "    </tr>\n",
       "    <tr>\n",
       "      <th>1412</th>\n",
       "      <td>698953797952008193</td>\n",
       "      <td>2016-02-14 19:35:46 +0000</td>\n",
       "      <td>Meet CeCe. She wanted to take a selfie before ...</td>\n",
       "      <td>11</td>\n",
       "      <td>10</td>\n",
       "      <td>NaN</td>\n",
       "    </tr>\n",
       "  </tbody>\n",
       "</table>\n",
       "</div>"
      ],
      "text/plain": [
       "                tweet_id                  timestamp  \\\n",
       "1679  682032003584274432  2015-12-30 02:54:35 +0000   \n",
       "610   797236660651966464  2016-11-12 00:36:46 +0000   \n",
       "362   829449946868879360  2017-02-08 22:00:52 +0000   \n",
       "1623  684902183876321280  2016-01-07 00:59:40 +0000   \n",
       "1412  698953797952008193  2016-02-14 19:35:46 +0000   \n",
       "\n",
       "                                                   text  rating_numerator  \\\n",
       "1679  This is Ulysses. He likes holding hands and hi...                11   \n",
       "610   This is Pancake. She loves Batman and winks li...                12   \n",
       "362   Here's a stressed doggo. Had a long day. Many ...                11   \n",
       "1623  This is Perry. He's an Augustus Gloopster. Ver...                11   \n",
       "1412  Meet CeCe. She wanted to take a selfie before ...                11   \n",
       "\n",
       "      rating_denominator  stage  \n",
       "1679                  10    NaN  \n",
       "610                   10    NaN  \n",
       "362                   10  doggo  \n",
       "1623                  10    NaN  \n",
       "1412                  10    NaN  "
      ]
     },
     "execution_count": 44,
     "metadata": {},
     "output_type": "execute_result"
    }
   ],
   "source": [
    "twitter_archive_clean.drop(to_drop_list , axis=1 , inplace= True)\n",
    "twitter_archive_clean.sample(5)"
   ]
  },
  {
   "cell_type": "markdown",
   "id": "a68649fb",
   "metadata": {},
   "source": [
    "> - **Let's look at the summary for twitter_archive_clean**\n"
   ]
  },
  {
   "cell_type": "code",
   "execution_count": 45,
   "id": "62c08fe1",
   "metadata": {},
   "outputs": [
    {
     "name": "stdout",
     "output_type": "stream",
     "text": [
      "<class 'pandas.core.frame.DataFrame'>\n",
      "Int64Index: 1477 entries, 1 to 2355\n",
      "Data columns (total 6 columns):\n",
      " #   Column              Non-Null Count  Dtype \n",
      "---  ------              --------------  ----- \n",
      " 0   tweet_id            1477 non-null   int64 \n",
      " 1   timestamp           1477 non-null   object\n",
      " 2   text                1477 non-null   object\n",
      " 3   rating_numerator    1477 non-null   int64 \n",
      " 4   rating_denominator  1477 non-null   int64 \n",
      " 5   stage               228 non-null    object\n",
      "dtypes: int64(3), object(3)\n",
      "memory usage: 80.8+ KB\n"
     ]
    }
   ],
   "source": [
    "twitter_archive_clean.info()"
   ]
  },
  {
   "cell_type": "markdown",
   "id": "0e416bd9",
   "metadata": {},
   "source": [
    "**Define**\n",
    "\n",
    "**- Remove tweets with a denominator !=10**\n",
    "> **Let's look at the statistical analysis of the denominator**"
   ]
  },
  {
   "cell_type": "code",
   "execution_count": 47,
   "id": "1ea10d30",
   "metadata": {},
   "outputs": [
    {
     "data": {
      "text/plain": [
       "count    1477.000000\n",
       "mean       10.534868\n",
       "std         6.849696\n",
       "min         2.000000\n",
       "25%        10.000000\n",
       "50%        10.000000\n",
       "75%        10.000000\n",
       "max       150.000000\n",
       "Name: rating_denominator, dtype: float64"
      ]
     },
     "execution_count": 47,
     "metadata": {},
     "output_type": "execute_result"
    }
   ],
   "source": [
    "twitter_archive_clean['rating_denominator'].describe()"
   ]
  },
  {
   "cell_type": "markdown",
   "id": "674a0bf6",
   "metadata": {},
   "source": [
    "> - **Show out records where rating_denominator != 10**\n",
    "\n",
    "*Note that most of them are a group of dogs not one dog except record (2335). Note that tweet `516` has no rating in original text. So, we drop them as analysis dedicate for tweets created for single dog not a group*"
   ]
  },
  {
   "cell_type": "code",
   "execution_count": 48,
   "id": "673760a0",
   "metadata": {},
   "outputs": [
    {
     "data": {
      "text/html": [
       "<div>\n",
       "<style scoped>\n",
       "    .dataframe tbody tr th:only-of-type {\n",
       "        vertical-align: middle;\n",
       "    }\n",
       "\n",
       "    .dataframe tbody tr th {\n",
       "        vertical-align: top;\n",
       "    }\n",
       "\n",
       "    .dataframe thead th {\n",
       "        text-align: right;\n",
       "    }\n",
       "</style>\n",
       "<table border=\"1\" class=\"dataframe\">\n",
       "  <thead>\n",
       "    <tr style=\"text-align: right;\">\n",
       "      <th></th>\n",
       "      <th>text</th>\n",
       "      <th>rating_numerator</th>\n",
       "      <th>rating_denominator</th>\n",
       "    </tr>\n",
       "  </thead>\n",
       "  <tbody>\n",
       "    <tr>\n",
       "      <th>433</th>\n",
       "      <td>The floofs have been released I repeat the flo...</td>\n",
       "      <td>84</td>\n",
       "      <td>70</td>\n",
       "    </tr>\n",
       "    <tr>\n",
       "      <th>516</th>\n",
       "      <td>Meet Sam. She smiles 24/7 &amp;amp; secretly aspir...</td>\n",
       "      <td>24</td>\n",
       "      <td>7</td>\n",
       "    </tr>\n",
       "    <tr>\n",
       "      <th>902</th>\n",
       "      <td>Why does this never happen at my front door......</td>\n",
       "      <td>165</td>\n",
       "      <td>150</td>\n",
       "    </tr>\n",
       "    <tr>\n",
       "      <th>1068</th>\n",
       "      <td>After so many requests, this is Bretagne. She ...</td>\n",
       "      <td>9</td>\n",
       "      <td>11</td>\n",
       "    </tr>\n",
       "    <tr>\n",
       "      <th>1165</th>\n",
       "      <td>Happy 4/20 from the squad! 13/10 for all https...</td>\n",
       "      <td>4</td>\n",
       "      <td>20</td>\n",
       "    </tr>\n",
       "    <tr>\n",
       "      <th>1202</th>\n",
       "      <td>This is Bluebert. He just saw that both #Final...</td>\n",
       "      <td>50</td>\n",
       "      <td>50</td>\n",
       "    </tr>\n",
       "    <tr>\n",
       "      <th>1228</th>\n",
       "      <td>Happy Saturday here's 9 puppers on a bench. 99...</td>\n",
       "      <td>99</td>\n",
       "      <td>90</td>\n",
       "    </tr>\n",
       "    <tr>\n",
       "      <th>1254</th>\n",
       "      <td>Here's a brigade of puppers. All look very pre...</td>\n",
       "      <td>80</td>\n",
       "      <td>80</td>\n",
       "    </tr>\n",
       "    <tr>\n",
       "      <th>1274</th>\n",
       "      <td>From left to right:\\nCletus, Jerome, Alejandro...</td>\n",
       "      <td>45</td>\n",
       "      <td>50</td>\n",
       "    </tr>\n",
       "    <tr>\n",
       "      <th>1351</th>\n",
       "      <td>Here is a whole flock of puppers.  60/50 I'll ...</td>\n",
       "      <td>60</td>\n",
       "      <td>50</td>\n",
       "    </tr>\n",
       "    <tr>\n",
       "      <th>1433</th>\n",
       "      <td>Happy Wednesday here's a bucket of pups. 44/40...</td>\n",
       "      <td>44</td>\n",
       "      <td>40</td>\n",
       "    </tr>\n",
       "    <tr>\n",
       "      <th>1634</th>\n",
       "      <td>Two sneaky puppers were not initially seen, mo...</td>\n",
       "      <td>143</td>\n",
       "      <td>130</td>\n",
       "    </tr>\n",
       "    <tr>\n",
       "      <th>1635</th>\n",
       "      <td>Someone help the girl is being mugged. Several...</td>\n",
       "      <td>121</td>\n",
       "      <td>110</td>\n",
       "    </tr>\n",
       "    <tr>\n",
       "      <th>1843</th>\n",
       "      <td>Here we have an entire platoon of puppers. Tot...</td>\n",
       "      <td>88</td>\n",
       "      <td>80</td>\n",
       "    </tr>\n",
       "    <tr>\n",
       "      <th>2335</th>\n",
       "      <td>This is an Albanian 3 1/2 legged  Episcopalian...</td>\n",
       "      <td>1</td>\n",
       "      <td>2</td>\n",
       "    </tr>\n",
       "  </tbody>\n",
       "</table>\n",
       "</div>"
      ],
      "text/plain": [
       "                                                   text  rating_numerator  \\\n",
       "433   The floofs have been released I repeat the flo...                84   \n",
       "516   Meet Sam. She smiles 24/7 &amp; secretly aspir...                24   \n",
       "902   Why does this never happen at my front door......               165   \n",
       "1068  After so many requests, this is Bretagne. She ...                 9   \n",
       "1165  Happy 4/20 from the squad! 13/10 for all https...                 4   \n",
       "1202  This is Bluebert. He just saw that both #Final...                50   \n",
       "1228  Happy Saturday here's 9 puppers on a bench. 99...                99   \n",
       "1254  Here's a brigade of puppers. All look very pre...                80   \n",
       "1274  From left to right:\\nCletus, Jerome, Alejandro...                45   \n",
       "1351  Here is a whole flock of puppers.  60/50 I'll ...                60   \n",
       "1433  Happy Wednesday here's a bucket of pups. 44/40...                44   \n",
       "1634  Two sneaky puppers were not initially seen, mo...               143   \n",
       "1635  Someone help the girl is being mugged. Several...               121   \n",
       "1843  Here we have an entire platoon of puppers. Tot...                88   \n",
       "2335  This is an Albanian 3 1/2 legged  Episcopalian...                 1   \n",
       "\n",
       "      rating_denominator  \n",
       "433                   70  \n",
       "516                    7  \n",
       "902                  150  \n",
       "1068                  11  \n",
       "1165                  20  \n",
       "1202                  50  \n",
       "1228                  90  \n",
       "1254                  80  \n",
       "1274                  50  \n",
       "1351                  50  \n",
       "1433                  40  \n",
       "1634                 130  \n",
       "1635                 110  \n",
       "1843                  80  \n",
       "2335                   2  "
      ]
     },
     "execution_count": 48,
     "metadata": {},
     "output_type": "execute_result"
    }
   ],
   "source": [
    "twitter_archive_clean[twitter_archive_clean['rating_denominator'] != 10][['text','rating_numerator', 'rating_denominator' ]]"
   ]
  },
  {
   "cell_type": "markdown",
   "id": "0aefd906",
   "metadata": {},
   "source": [
    "**Code**\n",
    "> - **Let's fix record (2335) firstly**\n",
    "\n",
    "> - **Show out text for record (2335) , it seems that this tweet fro a dog bur rate is inaccurate. So, we fix this denominator value**"
   ]
  },
  {
   "cell_type": "code",
   "execution_count": 49,
   "id": "dddebeec",
   "metadata": {},
   "outputs": [
    {
     "data": {
      "text/plain": [
       "'This is an Albanian 3 1/2 legged  Episcopalian. Loves well-polished hardwood flooring. Penis on the collar. 9/10 https://t.co/d9NcXFKwLv'"
      ]
     },
     "execution_count": 49,
     "metadata": {},
     "output_type": "execute_result"
    }
   ],
   "source": [
    "twitter_archive_clean[twitter_archive_clean['rating_denominator'] != 10].loc[2335,'text']"
   ]
  },
  {
   "cell_type": "markdown",
   "id": "a4108118",
   "metadata": {},
   "source": [
    "> - **Fix denominator and numerator values for recore (2335)**"
   ]
  },
  {
   "cell_type": "code",
   "execution_count": 50,
   "id": "4cdc914d",
   "metadata": {},
   "outputs": [],
   "source": [
    "twitter_archive_clean.loc[2335 , 'rating_denominator'] = 10\n",
    "twitter_archive_clean.loc[2335 , 'rating_numerator'] = 9"
   ]
  },
  {
   "cell_type": "markdown",
   "id": "08aad321",
   "metadata": {},
   "source": [
    "> - **Douple check that record(2335) has been fixed**"
   ]
  },
  {
   "cell_type": "code",
   "execution_count": 51,
   "id": "d9fa8aa4",
   "metadata": {},
   "outputs": [
    {
     "data": {
      "text/plain": [
       "tweet_id                                             666287406224695296\n",
       "timestamp                                     2015-11-16 16:11:11 +0000\n",
       "text                  This is an Albanian 3 1/2 legged  Episcopalian...\n",
       "rating_numerator                                                      9\n",
       "rating_denominator                                                   10\n",
       "stage                                                               NaN\n",
       "Name: 2335, dtype: object"
      ]
     },
     "execution_count": 51,
     "metadata": {},
     "output_type": "execute_result"
    }
   ],
   "source": [
    "twitter_archive_clean.loc[2335,:]"
   ]
  },
  {
   "cell_type": "markdown",
   "id": "207a9aeb",
   "metadata": {},
   "source": [
    "> - **Identify all tweets that have \"rating_denominator\" != 10**"
   ]
  },
  {
   "cell_type": "code",
   "execution_count": 52,
   "id": "0a5f625a",
   "metadata": {},
   "outputs": [],
   "source": [
    "wrong_denominator= twitter_archive_clean[twitter_archive_clean['rating_denominator'] != 10].index\n",
    "\n",
    "# Drop all tweets that have \"rating_denominator\" != 10 \n",
    "twitter_archive_clean.drop(wrong_denominator , inplace = True )"
   ]
  },
  {
   "cell_type": "markdown",
   "id": "3417d90b",
   "metadata": {},
   "source": [
    "**Test**\n",
    "> - **Check that all tweets that have rating_denominator != 10 have been removed**"
   ]
  },
  {
   "cell_type": "code",
   "execution_count": 53,
   "id": "2543c6d0",
   "metadata": {},
   "outputs": [
    {
     "data": {
      "text/html": [
       "<div>\n",
       "<style scoped>\n",
       "    .dataframe tbody tr th:only-of-type {\n",
       "        vertical-align: middle;\n",
       "    }\n",
       "\n",
       "    .dataframe tbody tr th {\n",
       "        vertical-align: top;\n",
       "    }\n",
       "\n",
       "    .dataframe thead th {\n",
       "        text-align: right;\n",
       "    }\n",
       "</style>\n",
       "<table border=\"1\" class=\"dataframe\">\n",
       "  <thead>\n",
       "    <tr style=\"text-align: right;\">\n",
       "      <th></th>\n",
       "      <th>tweet_id</th>\n",
       "      <th>timestamp</th>\n",
       "      <th>text</th>\n",
       "      <th>rating_numerator</th>\n",
       "      <th>rating_denominator</th>\n",
       "      <th>stage</th>\n",
       "    </tr>\n",
       "  </thead>\n",
       "  <tbody>\n",
       "  </tbody>\n",
       "</table>\n",
       "</div>"
      ],
      "text/plain": [
       "Empty DataFrame\n",
       "Columns: [tweet_id, timestamp, text, rating_numerator, rating_denominator, stage]\n",
       "Index: []"
      ]
     },
     "execution_count": 53,
     "metadata": {},
     "output_type": "execute_result"
    }
   ],
   "source": [
    "# Note that there is no records where rating_denominator != 10\n",
    "twitter_archive_clean[twitter_archive_clean['rating_denominator'] != 10]"
   ]
  },
  {
   "cell_type": "markdown",
   "id": "bb8ede29",
   "metadata": {},
   "source": [
    "> - **Show out records where rating_numerator != 10**"
   ]
  },
  {
   "cell_type": "code",
   "execution_count": 50,
   "id": "f95b3b2d",
   "metadata": {},
   "outputs": [
    {
     "data": {
      "text/plain": [
       "count    1463.000000\n",
       "mean       10.987013\n",
       "std         2.451549\n",
       "min         2.000000\n",
       "25%        10.000000\n",
       "50%        11.000000\n",
       "75%        12.000000\n",
       "max        75.000000\n",
       "Name: rating_numerator, dtype: float64"
      ]
     },
     "execution_count": 50,
     "metadata": {},
     "output_type": "execute_result"
    }
   ],
   "source": [
    "twitter_archive_clean['rating_numerator'].describe()"
   ]
  },
  {
   "cell_type": "markdown",
   "id": "8df9842f",
   "metadata": {},
   "source": [
    "**Define**\n",
    "\n",
    "**Fix tweets that have a rating numerator of more that 15**\n",
    "> - **Show out tweets with rating_numerator more than 15**"
   ]
  },
  {
   "cell_type": "code",
   "execution_count": 54,
   "id": "20fe011b",
   "metadata": {},
   "outputs": [
    {
     "data": {
      "text/html": [
       "<div>\n",
       "<style scoped>\n",
       "    .dataframe tbody tr th:only-of-type {\n",
       "        vertical-align: middle;\n",
       "    }\n",
       "\n",
       "    .dataframe tbody tr th {\n",
       "        vertical-align: top;\n",
       "    }\n",
       "\n",
       "    .dataframe thead th {\n",
       "        text-align: right;\n",
       "    }\n",
       "</style>\n",
       "<table border=\"1\" class=\"dataframe\">\n",
       "  <thead>\n",
       "    <tr style=\"text-align: right;\">\n",
       "      <th></th>\n",
       "      <th>tweet_id</th>\n",
       "      <th>timestamp</th>\n",
       "      <th>text</th>\n",
       "      <th>rating_numerator</th>\n",
       "      <th>rating_denominator</th>\n",
       "      <th>stage</th>\n",
       "    </tr>\n",
       "  </thead>\n",
       "  <tbody>\n",
       "    <tr>\n",
       "      <th>695</th>\n",
       "      <td>786709082849828864</td>\n",
       "      <td>2016-10-13 23:23:56 +0000</td>\n",
       "      <td>This is Logan, the Chow who lived. He solemnly...</td>\n",
       "      <td>75</td>\n",
       "      <td>10</td>\n",
       "      <td>NaN</td>\n",
       "    </tr>\n",
       "    <tr>\n",
       "      <th>763</th>\n",
       "      <td>778027034220126208</td>\n",
       "      <td>2016-09-20 00:24:34 +0000</td>\n",
       "      <td>This is Sophie. She's a Jubilant Bush Pupper. ...</td>\n",
       "      <td>27</td>\n",
       "      <td>10</td>\n",
       "      <td>pupper</td>\n",
       "    </tr>\n",
       "    <tr>\n",
       "      <th>1712</th>\n",
       "      <td>680494726643068929</td>\n",
       "      <td>2015-12-25 21:06:00 +0000</td>\n",
       "      <td>Here we have uncovered an entire battalion of ...</td>\n",
       "      <td>26</td>\n",
       "      <td>10</td>\n",
       "      <td>NaN</td>\n",
       "    </tr>\n",
       "  </tbody>\n",
       "</table>\n",
       "</div>"
      ],
      "text/plain": [
       "                tweet_id                  timestamp  \\\n",
       "695   786709082849828864  2016-10-13 23:23:56 +0000   \n",
       "763   778027034220126208  2016-09-20 00:24:34 +0000   \n",
       "1712  680494726643068929  2015-12-25 21:06:00 +0000   \n",
       "\n",
       "                                                   text  rating_numerator  \\\n",
       "695   This is Logan, the Chow who lived. He solemnly...                75   \n",
       "763   This is Sophie. She's a Jubilant Bush Pupper. ...                27   \n",
       "1712  Here we have uncovered an entire battalion of ...                26   \n",
       "\n",
       "      rating_denominator   stage  \n",
       "695                   10     NaN  \n",
       "763                   10  pupper  \n",
       "1712                  10     NaN  "
      ]
     },
     "execution_count": 54,
     "metadata": {},
     "output_type": "execute_result"
    }
   ],
   "source": [
    "twitter_archive_clean[twitter_archive_clean['rating_numerator'] > 15]"
   ]
  },
  {
   "cell_type": "markdown",
   "id": "3c2cf743",
   "metadata": {},
   "source": [
    "**Code**"
   ]
  },
  {
   "cell_type": "markdown",
   "id": "fa88894a",
   "metadata": {},
   "source": [
    "> - **Show out text for tweets that have rating_numerator 75 (index - 695)**"
   ]
  },
  {
   "cell_type": "code",
   "execution_count": 55,
   "id": "6eb2c842",
   "metadata": {},
   "outputs": [
    {
     "data": {
      "text/plain": [
       "\"This is Logan, the Chow who lived. He solemnly swears he's up to lots of good. H*ckin magical af 9.75/10 https://t.co/yBO5wuqaPS\""
      ]
     },
     "execution_count": 55,
     "metadata": {},
     "output_type": "execute_result"
    }
   ],
   "source": [
    "twitter_archive_clean[twitter_archive_clean['rating_numerator'] > 15].loc[695,'text']"
   ]
  },
  {
   "cell_type": "markdown",
   "id": "8bfd6896",
   "metadata": {},
   "source": [
    "> - **Show out text for tweets that have rating_numerator 27 (index - 763)**"
   ]
  },
  {
   "cell_type": "code",
   "execution_count": 56,
   "id": "64808d63",
   "metadata": {},
   "outputs": [
    {
     "data": {
      "text/plain": [
       "\"This is Sophie. She's a Jubilant Bush Pupper. Super h*ckin rare. Appears at random just to smile at the locals. 11.27/10 would smile back https://t.co/QFaUiIHxHq\""
      ]
     },
     "execution_count": 56,
     "metadata": {},
     "output_type": "execute_result"
    }
   ],
   "source": [
    "twitter_archive_clean[twitter_archive_clean['rating_numerator'] > 15].loc[ 763,'text']"
   ]
  },
  {
   "cell_type": "markdown",
   "id": "58724ff1",
   "metadata": {},
   "source": [
    "> - **Show out text for tweets that have rating_numerator 27 (index - 1712)**"
   ]
  },
  {
   "cell_type": "code",
   "execution_count": 57,
   "id": "0160053b",
   "metadata": {},
   "outputs": [
    {
     "data": {
      "text/plain": [
       "'Here we have uncovered an entire battalion of holiday puppers. Average of 11.26/10 https://t.co/eNm2S6p9BD'"
      ]
     },
     "execution_count": 57,
     "metadata": {},
     "output_type": "execute_result"
    }
   ],
   "source": [
    "twitter_archive_clean[twitter_archive_clean['rating_numerator'] > 15].loc[1712,'text']"
   ]
  },
  {
   "cell_type": "code",
   "execution_count": 58,
   "id": "76576bfa",
   "metadata": {},
   "outputs": [],
   "source": [
    "# fix rating numerator for previous tweet (index 695):\n",
    "twitter_archive_clean.loc[695 , 'rating_numerator'] = 9.75\n",
    "# fix rating numerator for previous tweet (index 763):\n",
    "twitter_archive_clean.loc[763 , 'rating_numerator'] = 11.27\n",
    "# fix rating numerator for previous tweet (index 1712):\n",
    "twitter_archive_clean.loc[1712 , 'rating_numerator'] = 11.26"
   ]
  },
  {
   "cell_type": "markdown",
   "id": "2e1ee17f",
   "metadata": {},
   "source": [
    "**Test**\n",
    "> - **Check that tweets having rating_numerator more than 15 has been fixed: Note that there is no tweets having rating_numerator more than 15 any more.**"
   ]
  },
  {
   "cell_type": "code",
   "execution_count": 59,
   "id": "05a67ec2",
   "metadata": {},
   "outputs": [
    {
     "data": {
      "text/html": [
       "<div>\n",
       "<style scoped>\n",
       "    .dataframe tbody tr th:only-of-type {\n",
       "        vertical-align: middle;\n",
       "    }\n",
       "\n",
       "    .dataframe tbody tr th {\n",
       "        vertical-align: top;\n",
       "    }\n",
       "\n",
       "    .dataframe thead th {\n",
       "        text-align: right;\n",
       "    }\n",
       "</style>\n",
       "<table border=\"1\" class=\"dataframe\">\n",
       "  <thead>\n",
       "    <tr style=\"text-align: right;\">\n",
       "      <th></th>\n",
       "      <th>tweet_id</th>\n",
       "      <th>timestamp</th>\n",
       "      <th>text</th>\n",
       "      <th>rating_numerator</th>\n",
       "      <th>rating_denominator</th>\n",
       "      <th>stage</th>\n",
       "    </tr>\n",
       "  </thead>\n",
       "  <tbody>\n",
       "  </tbody>\n",
       "</table>\n",
       "</div>"
      ],
      "text/plain": [
       "Empty DataFrame\n",
       "Columns: [tweet_id, timestamp, text, rating_numerator, rating_denominator, stage]\n",
       "Index: []"
      ]
     },
     "execution_count": 59,
     "metadata": {},
     "output_type": "execute_result"
    }
   ],
   "source": [
    "twitter_archive_clean[twitter_archive_clean['rating_numerator'] > 15]"
   ]
  },
  {
   "cell_type": "code",
   "execution_count": 60,
   "id": "daf38a72",
   "metadata": {},
   "outputs": [
    {
     "data": {
      "text/plain": [
       "count    1463.000000\n",
       "mean       10.921586\n",
       "std         1.695473\n",
       "min         2.000000\n",
       "25%        10.000000\n",
       "50%        11.000000\n",
       "75%        12.000000\n",
       "max        14.000000\n",
       "Name: rating_numerator, dtype: float64"
      ]
     },
     "execution_count": 60,
     "metadata": {},
     "output_type": "execute_result"
    }
   ],
   "source": [
    "# Check again statistical summary for rating_numerator:\n",
    "twitter_archive_clean['rating_numerator'].describe()"
   ]
  },
  {
   "cell_type": "markdown",
   "id": "6d16d0f4",
   "metadata": {},
   "source": [
    "**Define**\n",
    "> - **Drop rating_denominator column as it will not be useful in any future analysis**"
   ]
  },
  {
   "cell_type": "markdown",
   "id": "37812ba9",
   "metadata": {},
   "source": [
    "**Code**"
   ]
  },
  {
   "cell_type": "code",
   "execution_count": 58,
   "id": "4215c4bc",
   "metadata": {},
   "outputs": [],
   "source": [
    "twitter_archive_clean.drop('rating_denominator' , axis= 1, inplace= True)"
   ]
  },
  {
   "cell_type": "markdown",
   "id": "98ad8ec4",
   "metadata": {},
   "source": [
    "**Test**"
   ]
  },
  {
   "cell_type": "code",
   "execution_count": 61,
   "id": "3a42da7b",
   "metadata": {},
   "outputs": [
    {
     "name": "stdout",
     "output_type": "stream",
     "text": [
      "<class 'pandas.core.frame.DataFrame'>\n",
      "Int64Index: 1463 entries, 1 to 2355\n",
      "Data columns (total 6 columns):\n",
      " #   Column              Non-Null Count  Dtype  \n",
      "---  ------              --------------  -----  \n",
      " 0   tweet_id            1463 non-null   int64  \n",
      " 1   timestamp           1463 non-null   object \n",
      " 2   text                1463 non-null   object \n",
      " 3   rating_numerator    1463 non-null   float64\n",
      " 4   rating_denominator  1463 non-null   int64  \n",
      " 5   stage               228 non-null    object \n",
      "dtypes: float64(1), int64(2), object(3)\n",
      "memory usage: 112.3+ KB\n"
     ]
    }
   ],
   "source": [
    "twitter_archive_clean.info()"
   ]
  },
  {
   "cell_type": "markdown",
   "id": "052300c6",
   "metadata": {},
   "source": [
    "## Image Predictions"
   ]
  },
  {
   "cell_type": "code",
   "execution_count": 61,
   "id": "52853ac0",
   "metadata": {},
   "outputs": [
    {
     "data": {
      "text/plain": [
       "Index(['tweet_id', 'jpg_url', 'img_num', 'p1', 'p1_conf', 'p1_dog', 'p2',\n",
       "       'p2_conf', 'p2_dog', 'p3', 'p3_conf', 'p3_dog'],\n",
       "      dtype='object')"
      ]
     },
     "execution_count": 61,
     "metadata": {},
     "output_type": "execute_result"
    }
   ],
   "source": [
    "image_predictions_clean.columns"
   ]
  },
  {
   "cell_type": "markdown",
   "id": "1401fc13",
   "metadata": {},
   "source": [
    "**Define**\n",
    "> - **Remove unnecessary columns `jpg_url`, `p2`, `p2_conf`, `p2_dog`, `p3`, `p3_conf`, `p3_dog`]**"
   ]
  },
  {
   "cell_type": "markdown",
   "id": "166e38fa",
   "metadata": {},
   "source": [
    "**Code**"
   ]
  },
  {
   "cell_type": "code",
   "execution_count": 62,
   "id": "b186f118",
   "metadata": {},
   "outputs": [],
   "source": [
    "to_drop_columns=['jpg_url','img_num', 'p2','p2_conf', 'p2_dog', 'p3', 'p3_conf', 'p3_dog']\n",
    "image_predictions_clean.drop(to_drop_columns, axis=1, inplace =True)"
   ]
  },
  {
   "cell_type": "markdown",
   "id": "fa6fc27e",
   "metadata": {},
   "source": [
    "**Test**\n",
    "> - **Test that all unnessary columns has been removed from `image_predictions_clean` data frame**"
   ]
  },
  {
   "cell_type": "code",
   "execution_count": 63,
   "id": "9059bd06",
   "metadata": {},
   "outputs": [
    {
     "data": {
      "text/plain": [
       "Index(['tweet_id', 'p1', 'p1_conf', 'p1_dog'], dtype='object')"
      ]
     },
     "execution_count": 63,
     "metadata": {},
     "output_type": "execute_result"
    }
   ],
   "source": [
    "image_predictions_clean.columns"
   ]
  },
  {
   "cell_type": "markdown",
   "id": "be44bbf5",
   "metadata": {},
   "source": [
    "**Define**\n",
    "> - **Rename columns of `image_predictions` data frame to be more descriptive**"
   ]
  },
  {
   "cell_type": "markdown",
   "id": "94f92264",
   "metadata": {},
   "source": [
    "**Code**"
   ]
  },
  {
   "cell_type": "code",
   "execution_count": 64,
   "id": "0df397fe",
   "metadata": {},
   "outputs": [],
   "source": [
    "new_names={'p1': 'breed' , 'p1_conf': 'pred_confidence' , 'p1_dog': 'is_dog' }\n",
    "image_predictions_clean.rename(columns=new_names, inplace =True)"
   ]
  },
  {
   "cell_type": "markdown",
   "id": "fa6ed7e3",
   "metadata": {},
   "source": [
    "**Test**"
   ]
  },
  {
   "cell_type": "code",
   "execution_count": 65,
   "id": "c8f29361",
   "metadata": {},
   "outputs": [
    {
     "data": {
      "text/html": [
       "<div>\n",
       "<style scoped>\n",
       "    .dataframe tbody tr th:only-of-type {\n",
       "        vertical-align: middle;\n",
       "    }\n",
       "\n",
       "    .dataframe tbody tr th {\n",
       "        vertical-align: top;\n",
       "    }\n",
       "\n",
       "    .dataframe thead th {\n",
       "        text-align: right;\n",
       "    }\n",
       "</style>\n",
       "<table border=\"1\" class=\"dataframe\">\n",
       "  <thead>\n",
       "    <tr style=\"text-align: right;\">\n",
       "      <th></th>\n",
       "      <th>tweet_id</th>\n",
       "      <th>breed</th>\n",
       "      <th>pred_confidence</th>\n",
       "      <th>is_dog</th>\n",
       "    </tr>\n",
       "  </thead>\n",
       "  <tbody>\n",
       "    <tr>\n",
       "      <th>348</th>\n",
       "      <td>672481316919734272</td>\n",
       "      <td>Border_collie</td>\n",
       "      <td>0.599454</td>\n",
       "      <td>True</td>\n",
       "    </tr>\n",
       "    <tr>\n",
       "      <th>141</th>\n",
       "      <td>668567822092664832</td>\n",
       "      <td>Shih-Tzu</td>\n",
       "      <td>0.985649</td>\n",
       "      <td>True</td>\n",
       "    </tr>\n",
       "    <tr>\n",
       "      <th>1049</th>\n",
       "      <td>713761197720473600</td>\n",
       "      <td>Brittany_spaniel</td>\n",
       "      <td>0.797936</td>\n",
       "      <td>True</td>\n",
       "    </tr>\n",
       "    <tr>\n",
       "      <th>1619</th>\n",
       "      <td>802624713319034886</td>\n",
       "      <td>cocker_spaniel</td>\n",
       "      <td>0.253442</td>\n",
       "      <td>True</td>\n",
       "    </tr>\n",
       "    <tr>\n",
       "      <th>102</th>\n",
       "      <td>667801013445750784</td>\n",
       "      <td>flat-coated_retriever</td>\n",
       "      <td>0.508392</td>\n",
       "      <td>True</td>\n",
       "    </tr>\n",
       "  </tbody>\n",
       "</table>\n",
       "</div>"
      ],
      "text/plain": [
       "                tweet_id                  breed  pred_confidence  is_dog\n",
       "348   672481316919734272          Border_collie         0.599454    True\n",
       "141   668567822092664832               Shih-Tzu         0.985649    True\n",
       "1049  713761197720473600       Brittany_spaniel         0.797936    True\n",
       "1619  802624713319034886         cocker_spaniel         0.253442    True\n",
       "102   667801013445750784  flat-coated_retriever         0.508392    True"
      ]
     },
     "execution_count": 65,
     "metadata": {},
     "output_type": "execute_result"
    }
   ],
   "source": [
    "image_predictions_clean.sample(5)"
   ]
  },
  {
   "cell_type": "code",
   "execution_count": 66,
   "id": "45babbc7",
   "metadata": {},
   "outputs": [
    {
     "name": "stdout",
     "output_type": "stream",
     "text": [
      "<class 'pandas.core.frame.DataFrame'>\n",
      "RangeIndex: 2075 entries, 0 to 2074\n",
      "Data columns (total 4 columns):\n",
      " #   Column           Non-Null Count  Dtype  \n",
      "---  ------           --------------  -----  \n",
      " 0   tweet_id         2075 non-null   int64  \n",
      " 1   breed            2075 non-null   object \n",
      " 2   pred_confidence  2075 non-null   float64\n",
      " 3   is_dog           2075 non-null   bool   \n",
      "dtypes: bool(1), float64(1), int64(1), object(1)\n",
      "memory usage: 50.8+ KB\n"
     ]
    }
   ],
   "source": [
    "image_predictions_clean.info()"
   ]
  },
  {
   "cell_type": "markdown",
   "id": "8d4459f2",
   "metadata": {},
   "source": [
    "## JSON Text File\n",
    "\n",
    "> - **Show up summary for json_df data frame**"
   ]
  },
  {
   "cell_type": "code",
   "execution_count": 68,
   "id": "7f98f84b",
   "metadata": {},
   "outputs": [
    {
     "name": "stdout",
     "output_type": "stream",
     "text": [
      "<class 'pandas.core.frame.DataFrame'>\n",
      "RangeIndex: 2354 entries, 0 to 2353\n",
      "Data columns (total 31 columns):\n",
      " #   Column                         Non-Null Count  Dtype  \n",
      "---  ------                         --------------  -----  \n",
      " 0   created_at                     2354 non-null   object \n",
      " 1   id                             2354 non-null   int64  \n",
      " 2   id_str                         2354 non-null   object \n",
      " 3   full_text                      2354 non-null   object \n",
      " 4   truncated                      2354 non-null   bool   \n",
      " 5   display_text_range             2354 non-null   object \n",
      " 6   entities                       2354 non-null   object \n",
      " 7   extended_entities              2073 non-null   object \n",
      " 8   source                         2354 non-null   object \n",
      " 9   in_reply_to_status_id          78 non-null     float64\n",
      " 10  in_reply_to_status_id_str      78 non-null     object \n",
      " 11  in_reply_to_user_id            78 non-null     float64\n",
      " 12  in_reply_to_user_id_str        78 non-null     object \n",
      " 13  in_reply_to_screen_name        78 non-null     object \n",
      " 14  user                           2354 non-null   object \n",
      " 15  geo                            0 non-null      object \n",
      " 16  coordinates                    0 non-null      object \n",
      " 17  place                          1 non-null      object \n",
      " 18  contributors                   0 non-null      object \n",
      " 19  is_quote_status                2354 non-null   bool   \n",
      " 20  retweet_count                  2354 non-null   int64  \n",
      " 21  favorite_count                 2354 non-null   int64  \n",
      " 22  favorited                      2354 non-null   bool   \n",
      " 23  retweeted                      2354 non-null   bool   \n",
      " 24  possibly_sensitive             2211 non-null   object \n",
      " 25  possibly_sensitive_appealable  2211 non-null   object \n",
      " 26  lang                           2354 non-null   object \n",
      " 27  retweeted_status               179 non-null    object \n",
      " 28  quoted_status_id               29 non-null     float64\n",
      " 29  quoted_status_id_str           29 non-null     object \n",
      " 30  quoted_status                  28 non-null     object \n",
      "dtypes: bool(4), float64(3), int64(3), object(21)\n",
      "memory usage: 505.9+ KB\n"
     ]
    }
   ],
   "source": [
    "tweet_data_clean.info()"
   ]
  },
  {
   "cell_type": "code",
   "execution_count": 73,
   "id": "962620d7",
   "metadata": {},
   "outputs": [],
   "source": [
    "tweet_data_clean=pd.DataFrame(df_list, columns = ['id' , 'retweet_count' , 'favorite_count'])"
   ]
  },
  {
   "cell_type": "code",
   "execution_count": 74,
   "id": "1831b63c",
   "metadata": {},
   "outputs": [
    {
     "data": {
      "text/plain": [
       "Index(['id', 'retweet_count', 'favorite_count'], dtype='object')"
      ]
     },
     "execution_count": 74,
     "metadata": {},
     "output_type": "execute_result"
    }
   ],
   "source": [
    "tweet_data_clean.columns"
   ]
  },
  {
   "cell_type": "code",
   "execution_count": 75,
   "id": "000611a0",
   "metadata": {},
   "outputs": [
    {
     "name": "stdout",
     "output_type": "stream",
     "text": [
      "<class 'pandas.core.frame.DataFrame'>\n",
      "RangeIndex: 2354 entries, 0 to 2353\n",
      "Data columns (total 3 columns):\n",
      " #   Column          Non-Null Count  Dtype\n",
      "---  ------          --------------  -----\n",
      " 0   id              2354 non-null   int64\n",
      " 1   retweet_count   2354 non-null   int64\n",
      " 2   favorite_count  2354 non-null   int64\n",
      "dtypes: int64(3)\n",
      "memory usage: 55.3 KB\n"
     ]
    }
   ],
   "source": [
    "tweet_data_clean.info()"
   ]
  },
  {
   "cell_type": "markdown",
   "id": "e59d9e06",
   "metadata": {},
   "source": [
    "**Define**\n",
    "> - **Fix name for \"id\" column in json_df to \"tweet_id\" to be consistent with other two data frames while merge**"
   ]
  },
  {
   "cell_type": "markdown",
   "id": "d6a6cdae",
   "metadata": {},
   "source": [
    "**Code**"
   ]
  },
  {
   "cell_type": "code",
   "execution_count": 76,
   "id": "e3065cad",
   "metadata": {},
   "outputs": [],
   "source": [
    "tweet_data_clean.rename(columns={'id': 'tweet_id'}, inplace = True)"
   ]
  },
  {
   "cell_type": "markdown",
   "id": "72bb63ce",
   "metadata": {},
   "source": [
    "**Test**"
   ]
  },
  {
   "cell_type": "code",
   "execution_count": 78,
   "id": "9a3e49ec",
   "metadata": {},
   "outputs": [
    {
     "name": "stdout",
     "output_type": "stream",
     "text": [
      "<class 'pandas.core.frame.DataFrame'>\n",
      "RangeIndex: 2354 entries, 0 to 2353\n",
      "Data columns (total 3 columns):\n",
      " #   Column          Non-Null Count  Dtype\n",
      "---  ------          --------------  -----\n",
      " 0   tweet_id        2354 non-null   int64\n",
      " 1   retweet_count   2354 non-null   int64\n",
      " 2   favorite_count  2354 non-null   int64\n",
      "dtypes: int64(3)\n",
      "memory usage: 55.3 KB\n"
     ]
    }
   ],
   "source": [
    "tweet_data_clean.info()"
   ]
  },
  {
   "cell_type": "markdown",
   "id": "b18a4b19",
   "metadata": {},
   "source": [
    "**Define**\n",
    "> - **Merge twitter_archive_clean with img_pred_clean**"
   ]
  },
  {
   "cell_type": "markdown",
   "id": "4c83640b",
   "metadata": {},
   "source": [
    "> - **Merge previous df with json_df_clean to create master df that will be used in our analysis**"
   ]
  },
  {
   "cell_type": "markdown",
   "id": "931dc223",
   "metadata": {},
   "source": [
    "**Code**"
   ]
  },
  {
   "cell_type": "code",
   "execution_count": 79,
   "id": "69c15993",
   "metadata": {},
   "outputs": [],
   "source": [
    "df = twitter_archive_clean.merge(image_predictions_clean, on='tweet_id',  how= 'inner')"
   ]
  },
  {
   "cell_type": "code",
   "execution_count": 80,
   "id": "bf9e19c3",
   "metadata": {},
   "outputs": [],
   "source": [
    "df_master=df.merge(tweet_data_clean , on= 'tweet_id' , how='inner')"
   ]
  },
  {
   "cell_type": "markdown",
   "id": "02ed2f2d",
   "metadata": {},
   "source": [
    "**Test**"
   ]
  },
  {
   "cell_type": "code",
   "execution_count": 81,
   "id": "fed45bee",
   "metadata": {},
   "outputs": [
    {
     "name": "stdout",
     "output_type": "stream",
     "text": [
      "<class 'pandas.core.frame.DataFrame'>\n",
      "Int64Index: 1463 entries, 0 to 1462\n",
      "Data columns (total 10 columns):\n",
      " #   Column            Non-Null Count  Dtype  \n",
      "---  ------            --------------  -----  \n",
      " 0   tweet_id          1463 non-null   int64  \n",
      " 1   timestamp         1463 non-null   object \n",
      " 2   text              1463 non-null   object \n",
      " 3   rating_numerator  1463 non-null   float64\n",
      " 4   stage             228 non-null    object \n",
      " 5   breed             1463 non-null   object \n",
      " 6   pred_confidence   1463 non-null   float64\n",
      " 7   is_dog            1463 non-null   bool   \n",
      " 8   retweet_count     1463 non-null   int64  \n",
      " 9   favorite_count    1463 non-null   int64  \n",
      "dtypes: bool(1), float64(2), int64(3), object(4)\n",
      "memory usage: 115.7+ KB\n"
     ]
    }
   ],
   "source": [
    "df_master.info()"
   ]
  },
  {
   "cell_type": "markdown",
   "id": "f2f1df51",
   "metadata": {},
   "source": [
    "***Save cleaned csv file***"
   ]
  },
  {
   "cell_type": "code",
   "execution_count": 82,
   "id": "1899fb8a",
   "metadata": {},
   "outputs": [],
   "source": [
    "df_master.to_csv('master_WeRateDogs.csv', index=False)"
   ]
  },
  {
   "cell_type": "code",
   "execution_count": 83,
   "id": "b9c9a4ce",
   "metadata": {},
   "outputs": [
    {
     "data": {
      "text/html": [
       "<div>\n",
       "<style scoped>\n",
       "    .dataframe tbody tr th:only-of-type {\n",
       "        vertical-align: middle;\n",
       "    }\n",
       "\n",
       "    .dataframe tbody tr th {\n",
       "        vertical-align: top;\n",
       "    }\n",
       "\n",
       "    .dataframe thead th {\n",
       "        text-align: right;\n",
       "    }\n",
       "</style>\n",
       "<table border=\"1\" class=\"dataframe\">\n",
       "  <thead>\n",
       "    <tr style=\"text-align: right;\">\n",
       "      <th></th>\n",
       "      <th>tweet_id</th>\n",
       "      <th>timestamp</th>\n",
       "      <th>text</th>\n",
       "      <th>rating_numerator</th>\n",
       "      <th>stage</th>\n",
       "      <th>breed</th>\n",
       "      <th>pred_confidence</th>\n",
       "      <th>is_dog</th>\n",
       "      <th>retweet_count</th>\n",
       "      <th>favorite_count</th>\n",
       "    </tr>\n",
       "  </thead>\n",
       "  <tbody>\n",
       "    <tr>\n",
       "      <th>0</th>\n",
       "      <td>892177421306343426</td>\n",
       "      <td>2017-08-01 00:17:27 +0000</td>\n",
       "      <td>This is Tilly. She's just checking pup on you....</td>\n",
       "      <td>13.0</td>\n",
       "      <td>NaN</td>\n",
       "      <td>Chihuahua</td>\n",
       "      <td>0.323581</td>\n",
       "      <td>True</td>\n",
       "      <td>6514</td>\n",
       "      <td>33819</td>\n",
       "    </tr>\n",
       "    <tr>\n",
       "      <th>1</th>\n",
       "      <td>891815181378084864</td>\n",
       "      <td>2017-07-31 00:18:03 +0000</td>\n",
       "      <td>This is Archie. He is a rare Norwegian Pouncin...</td>\n",
       "      <td>12.0</td>\n",
       "      <td>NaN</td>\n",
       "      <td>Chihuahua</td>\n",
       "      <td>0.716012</td>\n",
       "      <td>True</td>\n",
       "      <td>4328</td>\n",
       "      <td>25461</td>\n",
       "    </tr>\n",
       "  </tbody>\n",
       "</table>\n",
       "</div>"
      ],
      "text/plain": [
       "             tweet_id                  timestamp  \\\n",
       "0  892177421306343426  2017-08-01 00:17:27 +0000   \n",
       "1  891815181378084864  2017-07-31 00:18:03 +0000   \n",
       "\n",
       "                                                text  rating_numerator stage  \\\n",
       "0  This is Tilly. She's just checking pup on you....              13.0   NaN   \n",
       "1  This is Archie. He is a rare Norwegian Pouncin...              12.0   NaN   \n",
       "\n",
       "       breed  pred_confidence  is_dog  retweet_count  favorite_count  \n",
       "0  Chihuahua         0.323581    True           6514           33819  \n",
       "1  Chihuahua         0.716012    True           4328           25461  "
      ]
     },
     "execution_count": 83,
     "metadata": {},
     "output_type": "execute_result"
    }
   ],
   "source": [
    "df_master.head(2)"
   ]
  },
  {
   "cell_type": "markdown",
   "id": "f9160927",
   "metadata": {},
   "source": [
    "# Data Sorting"
   ]
  },
  {
   "cell_type": "code",
   "execution_count": 84,
   "id": "84cefd99",
   "metadata": {},
   "outputs": [
    {
     "name": "stdout",
     "output_type": "stream",
     "text": [
      "<class 'pandas.core.frame.DataFrame'>\n",
      "Int64Index: 1463 entries, 0 to 1462\n",
      "Data columns (total 10 columns):\n",
      " #   Column            Non-Null Count  Dtype  \n",
      "---  ------            --------------  -----  \n",
      " 0   tweet_id          1463 non-null   int64  \n",
      " 1   timestamp         1463 non-null   object \n",
      " 2   text              1463 non-null   object \n",
      " 3   rating_numerator  1463 non-null   float64\n",
      " 4   stage             228 non-null    object \n",
      " 5   breed             1463 non-null   object \n",
      " 6   pred_confidence   1463 non-null   float64\n",
      " 7   is_dog            1463 non-null   bool   \n",
      " 8   retweet_count     1463 non-null   int64  \n",
      " 9   favorite_count    1463 non-null   int64  \n",
      "dtypes: bool(1), float64(2), int64(3), object(4)\n",
      "memory usage: 115.7+ KB\n"
     ]
    }
   ],
   "source": [
    "df_master.info()"
   ]
  },
  {
   "cell_type": "code",
   "execution_count": 86,
   "id": "2f7f6d8b",
   "metadata": {},
   "outputs": [
    {
     "data": {
      "text/plain": [
       "1463"
      ]
     },
     "execution_count": 86,
     "metadata": {},
     "output_type": "execute_result"
    }
   ],
   "source": [
    "df_master['breed'].value_counts().sum()"
   ]
  },
  {
   "cell_type": "code",
   "execution_count": 88,
   "id": "2dfdfa40",
   "metadata": {},
   "outputs": [
    {
     "data": {
      "text/plain": [
       "golden_retriever             135\n",
       "Labrador_retriever            92\n",
       "Pembroke                      88\n",
       "Chihuahua                     79\n",
       "pug                           54\n",
       "chow                          41\n",
       "Samoyed                       40\n",
       "toy_poodle                    38\n",
       "Pomeranian                    38\n",
       "malamute                      29\n",
       "cocker_spaniel                27\n",
       "French_bulldog                26\n",
       "Chesapeake_Bay_retriever      23\n",
       "miniature_pinscher            22\n",
       "German_shepherd               20\n",
       "Siberian_husky                19\n",
       "Staffordshire_bullterrier     19\n",
       "Maltese_dog                   18\n",
       "Shetland_sheepdog             18\n",
       "Eskimo_dog                    18\n",
       "Name: breed, dtype: int64"
      ]
     },
     "execution_count": 88,
     "metadata": {},
     "output_type": "execute_result"
    }
   ],
   "source": [
    "df_master['breed'].value_counts()[0:20]"
   ]
  },
  {
   "cell_type": "markdown",
   "id": "e3635162",
   "metadata": {},
   "source": [
    "## Which breed is the most common in this twitter archive?"
   ]
  },
  {
   "cell_type": "code",
   "execution_count": 91,
   "id": "3c7b2542",
   "metadata": {},
   "outputs": [
    {
     "data": {
      "image/png": "[encoded data removed]",
      "text/plain": [
       "<Figure size 720x432 with 1 Axes>"
      ]
     },
     "metadata": {
      "needs_background": "light"
     },
     "output_type": "display_data"
    }
   ],
   "source": [
    "#Plot the top 10 breeds \n",
    "plt.figure(figsize=(10,6))\n",
    "df_master['breed'].value_counts()[0:10].sort_values(ascending=True).plot(kind='barh' , color ='orange')\n",
    "\n",
    "# Set x_label, y_label and title:\n",
    "plt.xlabel('Count',size=12)\n",
    "plt.ylabel('Breed', size=12)\n",
    "plt.title('Dog\\'s Breed VS Count', size=12)\n",
    "\n",
    "# Set x & y positions to add text over each bar:\n",
    "x = df_master['breed'].value_counts()[0:10].sort_values(ascending=True).values\n",
    "y= np.arange(0,10,1)\n",
    "\n",
    "# Add text (showing value) over each bar:\n",
    "for xx, yy in zip(x,y):\n",
    "    plt.text(xx+1,yy,xx , va='center')"
   ]
  },
  {
   "cell_type": "markdown",
   "id": "a683be5c",
   "metadata": {},
   "source": [
    "> - **Plot a histogram to show up distrbution of rating_numerator**"
   ]
  },
  {
   "cell_type": "code",
   "execution_count": 93,
   "id": "1e740204",
   "metadata": {},
   "outputs": [
    {
     "data": {
      "image/png": "[encoded data removed]",
      "text/plain": [
       "<Figure size 432x288 with 1 Axes>"
      ]
     },
     "metadata": {
      "needs_background": "light"
     },
     "output_type": "display_data"
    }
   ],
   "source": [
    "df_master['rating_numerator'].hist()\n",
    "plt.xlabel('Rating_Numerator')\n",
    "plt.ylabel('Distribution')\n",
    "plt.show()"
   ]
  },
  {
   "cell_type": "markdown",
   "id": "4360da5b",
   "metadata": {},
   "source": [
    "As shown below most of dogs get rating ranges from 8 to 14 and only few dogs get rating less than 8"
   ]
  },
  {
   "cell_type": "markdown",
   "id": "b487242f",
   "metadata": {},
   "source": [
    "## Are low rates associated with a particular breed?"
   ]
  },
  {
   "cell_type": "markdown",
   "id": "141e5297",
   "metadata": {},
   "source": [
    "> - **Let's check dogs having rating less than 8**"
   ]
  },
  {
   "cell_type": "code",
   "execution_count": 95,
   "id": "c06b3442",
   "metadata": {},
   "outputs": [
    {
     "data": {
      "text/plain": [
       "Chihuahua                      6\n",
       "pug                            4\n",
       "Pembroke                       4\n",
       "Airedale                       3\n",
       "soft-coated_wheaten_terrier    2\n",
       "redbone                        2\n",
       "Boston_bull                    2\n",
       "borzoi                         2\n",
       "dalmatian                      2\n",
       "Saint_Bernard                  1\n",
       "Tibetan_terrier                1\n",
       "Newfoundland                   1\n",
       "Border_collie                  1\n",
       "miniature_schnauzer            1\n",
       "Norwich_terrier                1\n",
       "black-and-tan_coonhound        1\n",
       "miniature_pinscher             1\n",
       "Labrador_retriever             1\n",
       "Pekinese                       1\n",
       "malinois                       1\n",
       "golden_retriever               1\n",
       "basset                         1\n",
       "flat-coated_retriever          1\n",
       "Italian_greyhound              1\n",
       "Japanese_spaniel               1\n",
       "Bedlington_terrier             1\n",
       "Maltese_dog                    1\n",
       "Lakeland_terrier               1\n",
       "Rottweiler                     1\n",
       "bloodhound                     1\n",
       "Brittany_spaniel               1\n",
       "Samoyed                        1\n",
       "Walker_hound                   1\n",
       "Shetland_sheepdog              1\n",
       "Afghan_hound                   1\n",
       "Rhodesian_ridgeback            1\n",
       "Name: breed, dtype: int64"
      ]
     },
     "execution_count": 95,
     "metadata": {},
     "output_type": "execute_result"
    }
   ],
   "source": [
    "less_than_8 = df_master[df_master['rating_numerator'] < 8]['breed'].value_counts()\n",
    "less_than_8"
   ]
  },
  {
   "cell_type": "code",
   "execution_count": 100,
   "id": "91de306a",
   "metadata": {},
   "outputs": [
    {
     "data": {
      "text/plain": [
       "breed\n",
       "Saluki                12.500000\n",
       "briard                12.333333\n",
       "Tibetan_mastiff       12.250000\n",
       "Border_terrier        12.142857\n",
       "silky_terrier         12.000000\n",
       "standard_schnauzer    12.000000\n",
       "giant_schnauzer       12.000000\n",
       "Eskimo_dog            11.777778\n",
       "Gordon_setter         11.750000\n",
       "Irish_setter          11.750000\n",
       "Name: rating_numerator, dtype: float64"
      ]
     },
     "execution_count": 100,
     "metadata": {},
     "output_type": "execute_result"
    }
   ],
   "source": [
    "top_10=df_master.groupby('breed')['rating_numerator'].mean().sort_values(ascending= False)[0:10]\n",
    "top_10"
   ]
  },
  {
   "cell_type": "markdown",
   "id": "4961ea56",
   "metadata": {},
   "source": [
    "**No**, Low rate is not associated with particular breed; There are diffrent breeds (few number of dogs in these breeds) got rate less than 8."
   ]
  },
  {
   "cell_type": "markdown",
   "id": "7c106fcb",
   "metadata": {},
   "source": [
    "## Which breed has the highest rating average"
   ]
  },
  {
   "cell_type": "code",
   "execution_count": 101,
   "id": "bb71aff1",
   "metadata": {},
   "outputs": [
    {
     "data": {
      "image/png": "[encoded data removed]",
      "text/plain": [
       "<Figure size 720x432 with 1 Axes>"
      ]
     },
     "metadata": {
      "needs_background": "light"
     },
     "output_type": "display_data"
    }
   ],
   "source": [
    "plt.figure(figsize=(10,6))\n",
    "top_10.plot(kind='bar' , color='red')\n",
    "plt.xticks(rotation= 55 , size= 12)\n",
    "plt.xlabel('Average Rating' , size=10)\n",
    "plt.ylabel('breed' , size= 12)\n",
    "plt.title('Dog\\'s Breed VS. Average Rating');\n",
    "\n",
    "y= df_master.groupby('breed')['rating_numerator'].mean().sort_values(ascending= False).round(2)\n",
    "x= np.arange(0,10,1)\n",
    "\n",
    "for xx,yy in zip(x,y):\n",
    "    plt.text(xx, yy+.1 , yy , ha='center')"
   ]
  },
  {
   "cell_type": "markdown",
   "id": "3c216fb3",
   "metadata": {},
   "source": [
    "## Which dog breed has the highest average number of tweets and favorites?"
   ]
  },
  {
   "cell_type": "markdown",
   "id": "2a641b98",
   "metadata": {},
   "source": [
    "> - **Show out top 10 breeds having highest average numbers of retweets and favorites in twitter archive**\n"
   ]
  },
  {
   "cell_type": "code",
   "execution_count": 102,
   "id": "08729c78",
   "metadata": {},
   "outputs": [],
   "source": [
    "top_retweets=df_master.groupby('breed')['retweet_count'].mean()[0:10].sort_values(ascending=False)\n",
    "top_favorites=df_master.groupby('breed')['favorite_count'].mean()[0:10].sort_values(ascending=False)"
   ]
  },
  {
   "cell_type": "code",
   "execution_count": 103,
   "id": "bb2fc646",
   "metadata": {},
   "outputs": [
    {
     "data": {
      "text/plain": [
       "breed\n",
       "Afghan_hound                      5976.000000\n",
       "Border_terrier                    3377.142857\n",
       "Australian_terrier                3078.500000\n",
       "Bedlington_terrier                2863.800000\n",
       "Blenheim_spaniel                  2583.300000\n",
       "Border_collie                     2207.750000\n",
       "American_Staffordshire_terrier    2204.923077\n",
       "Bernese_mountain_dog              1604.100000\n",
       "Appenzeller                       1458.000000\n",
       "Airedale                          1393.750000\n",
       "Name: retweet_count, dtype: float64"
      ]
     },
     "execution_count": 103,
     "metadata": {},
     "output_type": "execute_result"
    }
   ],
   "source": [
    "top_retweets"
   ]
  },
  {
   "cell_type": "code",
   "execution_count": 104,
   "id": "a7360872",
   "metadata": {},
   "outputs": [
    {
     "data": {
      "text/plain": [
       "breed\n",
       "Afghan_hound                      17326.666667\n",
       "Border_terrier                    13578.000000\n",
       "Bedlington_terrier                13025.000000\n",
       "Australian_terrier                11127.500000\n",
       "Blenheim_spaniel                   9280.900000\n",
       "Border_collie                      8933.083333\n",
       "American_Staffordshire_terrier     7559.538462\n",
       "Appenzeller                        7317.500000\n",
       "Bernese_mountain_dog               6790.700000\n",
       "Airedale                           5280.833333\n",
       "Name: favorite_count, dtype: float64"
      ]
     },
     "execution_count": 104,
     "metadata": {},
     "output_type": "execute_result"
    }
   ],
   "source": [
    "top_favorites"
   ]
  },
  {
   "cell_type": "markdown",
   "id": "2459c039",
   "metadata": {},
   "source": [
    "**Afghan_hound** has the hightst average number of retweets(5976) and favorites(17326)"
   ]
  },
  {
   "cell_type": "code",
   "execution_count": 107,
   "id": "9019b2a1",
   "metadata": {},
   "outputs": [
    {
     "data": {
      "image/png": "[encoded data removed]",
      "text/plain": [
       "<Figure size 936x648 with 2 Axes>"
      ]
     },
     "metadata": {
      "needs_background": "light"
     },
     "output_type": "display_data"
    }
   ],
   "source": [
    "figure= plt.figure(figsize=(13,9))\n",
    "\n",
    "plt.subplot(2,1,1 )\n",
    "plt.bar(top_retweets.index, top_retweets.values , color='green')\n",
    "plt.ylabel('Average Retweets count' , size= 12)\n",
    "plt.title('Dog\\'s Breed VS, Average Retweets count')\n",
    "plt.xticks(rotation =85)\n",
    "\n",
    "\n",
    "plt.subplot(2,1,2)\n",
    "plt.bar(top_favorites.index , top_favorites.values, color='orange')\n",
    "plt.ylabel('Average Favorites count' , size= 12)\n",
    "plt.xlabel('breeds' , size= 12)\n",
    "plt.title('Dog\\'s Breed VS, Average favorites count')\n",
    "plt.xticks(rotation = 85)\n",
    "\n",
    "figure.tight_layout(pad=5)"
   ]
  },
  {
   "cell_type": "code",
   "execution_count": null,
   "id": "857be395",
   "metadata": {},
   "outputs": [],
   "source": []
  },
  {
   "cell_type": "code",
   "execution_count": null,
   "id": "7a5a9b23",
   "metadata": {},
   "outputs": [],
   "source": []
  }
 ],
 "metadata": {
  "kernelspec": {
   "display_name": "Python 3 (ipykernel)",
   "language": "python",
   "name": "python3"
  },
  "language_info": {
   "codemirror_mode": {
    "name": "ipython",
    "version": 3
   },
   "file_extension": ".py",
   "mimetype": "text/x-python",
   "name": "python",
   "nbconvert_exporter": "python",
   "pygments_lexer": "ipython3",
   "version": "3.9.7"
  }
 },
 "nbformat": 4,
 "nbformat_minor": 5
}
